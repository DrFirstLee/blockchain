{
 "cells": [
  {
   "cell_type": "code",
   "execution_count": 2,
   "id": "ad6991f6",
   "metadata": {},
   "outputs": [
    {
     "name": "stdout",
     "output_type": "stream",
     "text": [
      "2.6.0\n",
      "3.36.0\n"
     ]
    }
   ],
   "source": [
    "import sqlite3\n",
    "print(sqlite3.version)\n",
    "print(sqlite3.sqlite_version)"
   ]
  },
  {
   "cell_type": "code",
   "execution_count": 4,
   "id": "21b8a863",
   "metadata": {},
   "outputs": [
    {
     "data": {
      "text/plain": [
       "<sqlite3.Cursor at 0x7fc87d923f10>"
      ]
     },
     "execution_count": 4,
     "metadata": {},
     "output_type": "execute_result"
    }
   ],
   "source": [
    "conn = sqlite3.connect(\"test.db\", isolation_level=None)\n",
    "# 커서 획득\n",
    "c = conn.cursor()\n",
    "\n",
    "c.execute(\"CREATE TABLE IF NOT EXISTS test_table \\\n",
    "            (id integer PRIMARY KEY, \\\n",
    "            name text, \\\n",
    "            birthday text)\")"
   ]
  },
  {
   "cell_type": "code",
   "execution_count": 6,
   "id": "b4c9cde6",
   "metadata": {},
   "outputs": [
    {
     "data": {
      "text/plain": [
       "<sqlite3.Cursor at 0x7fc87d923f10>"
      ]
     },
     "execution_count": 6,
     "metadata": {},
     "output_type": "execute_result"
    }
   ],
   "source": [
    "c.execute(\"INSERT INTO test_table \\\n",
    "        VALUES(1, 'LEE', '1987-00-00')\")"
   ]
  },
  {
   "cell_type": "code",
   "execution_count": 7,
   "id": "763a6530",
   "metadata": {},
   "outputs": [
    {
     "data": {
      "text/plain": [
       "<sqlite3.Cursor at 0x7fc87d923f10>"
      ]
     },
     "execution_count": 7,
     "metadata": {},
     "output_type": "execute_result"
    }
   ],
   "source": [
    "# 데이터 삽입 방법 2\n",
    "c.execute(\"INSERT INTO test_table(id, name, birthday) \\\n",
    "    VALUES(?,?,?)\", \\\n",
    "    (2, 'KIM', '1990-00-00'))"
   ]
  },
  {
   "cell_type": "code",
   "execution_count": 9,
   "id": "48841057",
   "metadata": {},
   "outputs": [
    {
     "name": "stdout",
     "output_type": "stream",
     "text": [
      "(1, 'LEE', '1987-00-00')\n",
      "(2, 'KIM', '1990-00-00')\n",
      "[]\n"
     ]
    }
   ],
   "source": [
    "c.execute(\"SELECT * FROM test_table\")\n",
    "print(c.fetchone())\n",
    "print(c.fetchone())\n",
    "print(c.fetchall())"
   ]
  },
  {
   "cell_type": "code",
   "execution_count": 10,
   "id": "9b0fc258",
   "metadata": {},
   "outputs": [
    {
     "name": "stdout",
     "output_type": "stream",
     "text": [
      "[(1, 'LEE', '1987-00-00'), (2, 'KIM', '1990-00-00')]\n"
     ]
    }
   ],
   "source": [
    "c.execute(\"SELECT * FROM test_table\")\n",
    "print(c.fetchall())"
   ]
  }
 ],
 "metadata": {
  "kernelspec": {
   "display_name": "Python 3 (ipykernel)",
   "language": "python",
   "name": "python3"
  },
  "language_info": {
   "codemirror_mode": {
    "name": "ipython",
    "version": 3
   },
   "file_extension": ".py",
   "mimetype": "text/x-python",
   "name": "python",
   "nbconvert_exporter": "python",
   "pygments_lexer": "ipython3",
   "version": "3.9.7"
  }
 },
 "nbformat": 4,
 "nbformat_minor": 5
}
