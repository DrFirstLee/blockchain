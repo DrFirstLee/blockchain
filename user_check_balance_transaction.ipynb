{
 "cells": [
  {
   "cell_type": "code",
   "execution_count": 47,
   "id": "261cb745",
   "metadata": {},
   "outputs": [],
   "source": [
    "import requests\n",
    "import json\n",
    "import pandas as pd\n",
    "import numpy as np"
   ]
  },
  {
   "cell_type": "code",
   "execution_count": 48,
   "id": "56adcd6e",
   "metadata": {},
   "outputs": [
    {
     "data": {
      "text/plain": [
       "b'{\"message\":\"New nodes have been added\",\"total_nodes\":[\"0.0.0.0:5001\"]}\\n'"
      ]
     },
     "execution_count": 48,
     "metadata": {},
     "output_type": "execute_result"
    }
   ],
   "source": [
    "## 노드 등록하기\n",
    "headers = {'Content-Type' : 'application/json; charset=utf-8'}\n",
    "data = {\n",
    "    \"nodes\": 'http://0.0.0.0:5001'\n",
    "}\n",
    "\n",
    "# requests.post(\"http://localhost:5000/nodes/register\", headers=headers, data=json.dumps(data))\n",
    "requests.post(\"http://localhost:5000/nodes/register\", headers=headers, data=json.dumps(data)).content"
   ]
  },
  {
   "cell_type": "code",
   "execution_count": 49,
   "id": "50d1f272",
   "metadata": {},
   "outputs": [
    {
     "data": {
      "text/plain": [
       "b'{\"message\":\"Transaction will be added to Block {2}\"}\\n'"
      ]
     },
     "execution_count": 49,
     "metadata": {},
     "output_type": "execute_result"
    }
   ],
   "source": [
    "## transaction 입력하기\n",
    "headers = {'Content-Type' : 'application/json; charset=utf-8'}\n",
    "data = {\n",
    "    \"sender\": 'abc',\n",
    "    \"recipient\": 'zzz',\n",
    "    \"amount\": 3,\n",
    "    \n",
    "}\n",
    "requests.post(\"http://localhost:5000/transactions/new\", headers=headers, data=json.dumps(data)).content\n",
    "\n",
    "## transaction 입력하기\n",
    "headers = {'Content-Type' : 'application/json; charset=utf-8'}\n",
    "data = {\n",
    "    \"sender\": 'def',\n",
    "    \"recipient\": 'yyy',\n",
    "    \"amount\": 1003,\n",
    "}\n",
    "requests.post(\"http://localhost:5000/transactions/new\", headers=headers, data=json.dumps(data)).content\n",
    "\n",
    "## transaction 입력하기\n",
    "headers = {'Content-Type' : 'application/json; charset=utf-8'}\n",
    "data = {\n",
    "    \"sender\": 'tyu',\n",
    "    \"recipient\": 'ccc',\n",
    "    \"amount\": 143,\n",
    "}\n",
    "requests.post(\"http://localhost:5000/transactions/new\", headers=headers, data=json.dumps(data)).content"
   ]
  },
  {
   "cell_type": "code",
   "execution_count": 50,
   "id": "c5b3861c",
   "metadata": {},
   "outputs": [
    {
     "name": "stdout",
     "output_type": "stream",
     "text": [
      "{\"index\":2,\"message\":\"new block found\",\"previous_hash\":\"b900abd84614cb9fbb28b2dc76d71361d799fb91cf9f0b578b7e34e79a12e1ff\",\"proof\":88384,\"transactions\":[{\"amount\":3,\"recipient\":\"zzz\",\"sender\":\"abc\",\"timestamp\":1652922953.1153772},{\"amount\":1003,\"recipient\":\"yyy\",\"sender\":\"def\",\"timestamp\":1652922953.121301},{\"amount\":143,\"recipient\":\"ccc\",\"sender\":\"tyu\",\"timestamp\":1652922953.1262085},{\"amount\":0.1,\"recipient\":\"node_5000\",\"sender\":\"master\",\"timestamp\":1652922954.1748877}]}\n",
      "\n"
     ]
    }
   ],
   "source": [
    "##  채굴하기\n",
    "headers = {'Content-Type' : 'application/json; charset=utf-8'}\n",
    "\n",
    "print(requests.get(\"http://localhost:5000/mine\").text)"
   ]
  },
  {
   "cell_type": "code",
   "execution_count": 51,
   "id": "8a123d85",
   "metadata": {},
   "outputs": [
    {
     "data": {
      "text/plain": [
       "{'chain': [{'index': 1,\n",
       "   'previous_hash': 1,\n",
       "   'proof': 100,\n",
       "   'timestamp': 1652922951.8196206,\n",
       "   'transactions': []},\n",
       "  {'index': 2,\n",
       "   'previous_hash': 'b900abd84614cb9fbb28b2dc76d71361d799fb91cf9f0b578b7e34e79a12e1ff',\n",
       "   'proof': 88384,\n",
       "   'timestamp': 1652922954.1798725,\n",
       "   'transactions': [{'amount': 3,\n",
       "     'recipient': 'zzz',\n",
       "     'sender': 'abc',\n",
       "     'timestamp': 1652922953.1153772},\n",
       "    {'amount': 1003,\n",
       "     'recipient': 'yyy',\n",
       "     'sender': 'def',\n",
       "     'timestamp': 1652922953.121301},\n",
       "    {'amount': 143,\n",
       "     'recipient': 'ccc',\n",
       "     'sender': 'tyu',\n",
       "     'timestamp': 1652922953.1262085},\n",
       "    {'amount': 0.1,\n",
       "     'recipient': 'node_5000',\n",
       "     'sender': 'master',\n",
       "     'timestamp': 1652922954.1748877}]}],\n",
       " 'length': 2}"
      ]
     },
     "execution_count": 51,
     "metadata": {},
     "output_type": "execute_result"
    }
   ],
   "source": [
    "## 2번 노드 상태 받기!! >> 아직 블록생성이 안되어 바뀐것이 없음\n",
    "headers = {'Content-Type' : 'application/json; charset=utf-8'}\n",
    "a = requests.get(\"http://localhost:5001/chain\", headers=headers)\n",
    "json.loads(a.text)"
   ]
  },
  {
   "cell_type": "code",
   "execution_count": 56,
   "id": "87f35c39",
   "metadata": {},
   "outputs": [
    {
     "data": {
      "text/plain": [
       "b'{\"message\":\"Transaction will be added to Block {4}\"}\\n'"
      ]
     },
     "execution_count": 56,
     "metadata": {},
     "output_type": "execute_result"
    }
   ],
   "source": [
    "## transaction 입력하기\n",
    "headers = {'Content-Type' : 'application/json; charset=utf-8'}\n",
    "data = {\n",
    "    \"sender\": 'abc2',\n",
    "    \"recipient\": 'zzz2',\n",
    "    \"amount\": 3,\n",
    "}\n",
    "requests.post(\"http://localhost:5001/transactions/new\", headers=headers, data=json.dumps(data)).content\n",
    "\n",
    "## transaction 입력하기\n",
    "headers = {'Content-Type' : 'application/json; charset=utf-8'}\n",
    "data = {\n",
    "    \"sender\": 'zzz2',\n",
    "    \"recipient\": 'def2',\n",
    "    \"amount\": 3,\n",
    "}\n",
    "requests.post(\"http://localhost:5001/transactions/new\", headers=headers, data=json.dumps(data)).content\n",
    "## transaction 입력하기\n",
    "headers = {'Content-Type' : 'application/json; charset=utf-8'}\n",
    "data = {\n",
    "    \"sender\": 'def2',\n",
    "    \"recipient\": 'yyy2',\n",
    "    \"amount\": 1003,\n",
    "}\n",
    "requests.post(\"http://localhost:5001/transactions/new\", headers=headers, data=json.dumps(data)).content\n",
    "\n",
    "## transaction 입력하기\n",
    "headers = {'Content-Type' : 'application/json; charset=utf-8'}\n",
    "data = {\n",
    "    \"sender\": 'tyu2',\n",
    "    \"recipient\": 'ccc2',\n",
    "    \"amount\": 143,\n",
    "}\n",
    "requests.post(\"http://localhost:5001/transactions/new\", headers=headers, data=json.dumps(data)).content"
   ]
  },
  {
   "cell_type": "code",
   "execution_count": 57,
   "id": "e5e651dc",
   "metadata": {},
   "outputs": [
    {
     "name": "stdout",
     "output_type": "stream",
     "text": [
      "{\"index\":4,\"message\":\"new block found\",\"previous_hash\":\"0cc3b20214f2c4b2f4ed1f570803f9feec58fff9a6edc778fd1812dbaba0b965\",\"proof\":88384,\"transactions\":[{\"amount\":3,\"recipient\":\"zzz2\",\"sender\":\"abc2\",\"timestamp\":1652923366.5188162},{\"amount\":3,\"recipient\":\"def2\",\"sender\":\"zzz2\",\"timestamp\":1652923366.524092},{\"amount\":1003,\"recipient\":\"yyy2\",\"sender\":\"def2\",\"timestamp\":1652923366.5286524},{\"amount\":143,\"recipient\":\"ccc2\",\"sender\":\"tyu2\",\"timestamp\":1652923366.5329275},{\"amount\":3,\"recipient\":\"zzz2\",\"sender\":\"abc2\",\"timestamp\":1652923367.6236515},{\"amount\":3,\"recipient\":\"def2\",\"sender\":\"zzz2\",\"timestamp\":1652923367.6300914},{\"amount\":1003,\"recipient\":\"yyy2\",\"sender\":\"def2\",\"timestamp\":1652923367.6355357},{\"amount\":143,\"recipient\":\"ccc2\",\"sender\":\"tyu2\",\"timestamp\":1652923367.6406527},{\"amount\":0.1,\"recipient\":\"node_5001\",\"sender\":\"master\",\"timestamp\":1652923369.100259}]}\n",
      "\n"
     ]
    }
   ],
   "source": [
    "##  채굴하기\n",
    "headers = {'Content-Type' : 'application/json; charset=utf-8'}\n",
    "print(requests.get(\"http://localhost:5001/mine\").text)"
   ]
  },
  {
   "cell_type": "code",
   "execution_count": 54,
   "id": "c0b93fba",
   "metadata": {},
   "outputs": [
    {
     "data": {
      "text/plain": [
       "{'chain': [{'index': 1,\n",
       "   'previous_hash': 1,\n",
       "   'proof': 100,\n",
       "   'timestamp': 1652922951.8196206,\n",
       "   'transactions': []},\n",
       "  {'index': 2,\n",
       "   'previous_hash': 'b900abd84614cb9fbb28b2dc76d71361d799fb91cf9f0b578b7e34e79a12e1ff',\n",
       "   'proof': 88384,\n",
       "   'timestamp': 1652922954.1798725,\n",
       "   'transactions': [{'amount': 3,\n",
       "     'recipient': 'zzz',\n",
       "     'sender': 'abc',\n",
       "     'timestamp': 1652922953.1153772},\n",
       "    {'amount': 1003,\n",
       "     'recipient': 'yyy',\n",
       "     'sender': 'def',\n",
       "     'timestamp': 1652922953.121301},\n",
       "    {'amount': 143,\n",
       "     'recipient': 'ccc',\n",
       "     'sender': 'tyu',\n",
       "     'timestamp': 1652922953.1262085},\n",
       "    {'amount': 0.1,\n",
       "     'recipient': 'node_5000',\n",
       "     'sender': 'master',\n",
       "     'timestamp': 1652922954.1748877}]},\n",
       "  {'index': 3,\n",
       "   'previous_hash': 'e57e43e30dfb39a73a09e953f5a192a7555d71415abd2a07c69b92cd6e3e3c80',\n",
       "   'proof': 100,\n",
       "   'timestamp': 1652922960.5413048,\n",
       "   'transactions': [{'amount': 0.1,\n",
       "     'recipient': 'node_5000',\n",
       "     'sender': 'master',\n",
       "     'timestamp': 1652922954.1772385},\n",
       "    {'amount': 3,\n",
       "     'recipient': 'zzz2',\n",
       "     'sender': 'abc2',\n",
       "     'timestamp': 1652922959.747398},\n",
       "    {'amount': 3,\n",
       "     'recipient': 'def2',\n",
       "     'sender': 'zzz2',\n",
       "     'timestamp': 1652922959.7539876},\n",
       "    {'amount': 1003,\n",
       "     'recipient': 'yyy2',\n",
       "     'sender': 'def2',\n",
       "     'timestamp': 1652922959.7597787},\n",
       "    {'amount': 143,\n",
       "     'recipient': 'ccc2',\n",
       "     'sender': 'tyu2',\n",
       "     'timestamp': 1652922959.7650113},\n",
       "    {'amount': 0.1,\n",
       "     'recipient': 'node_5001',\n",
       "     'sender': 'master',\n",
       "     'timestamp': 1652922960.5348382}]}],\n",
       " 'length': 3}"
      ]
     },
     "execution_count": 54,
     "metadata": {},
     "output_type": "execute_result"
    }
   ],
   "source": [
    "## 1번 노드 상태 받기!! \n",
    "headers = {'Content-Type' : 'application/json; charset=utf-8'}\n",
    "a = requests.get(\"http://localhost:5000/chain\", headers=headers)\n",
    "json.loads(a.text)"
   ]
  },
  {
   "cell_type": "code",
   "execution_count": 31,
   "id": "bfff92d4",
   "metadata": {},
   "outputs": [
    {
     "data": {
      "text/plain": [
       "{'chain': [{'index': 1,\n",
       "   'previous_hash': 1,\n",
       "   'proof': 100,\n",
       "   'timestamp': 1652922079.5773902,\n",
       "   'transactions': []},\n",
       "  {'index': 2,\n",
       "   'previous_hash': '33b0c8d6581fcdc3f6725e594c61f0f97112805aacc5a011b9703991d2e871d9',\n",
       "   'proof': 88384,\n",
       "   'timestamp': 1652922091.2056768,\n",
       "   'transactions': [{'amount': 3,\n",
       "     'recipient': 'zzz',\n",
       "     'sender': 'abc',\n",
       "     'timestamp': 1652922087.6217322},\n",
       "    {'amount': 1003,\n",
       "     'recipient': 'yyy',\n",
       "     'sender': 'def',\n",
       "     'timestamp': 1652922087.6282182},\n",
       "    {'amount': 143,\n",
       "     'recipient': 'ccc',\n",
       "     'sender': 'tyu',\n",
       "     'timestamp': 1652922087.633395},\n",
       "    {'amount': 0.1,\n",
       "     'recipient': 'node_5000',\n",
       "     'sender': 'master',\n",
       "     'timestamp': 1652922091.2005756}]},\n",
       "  {'index': 3,\n",
       "   'previous_hash': 'fad2adb99ec2b0da138861fe44073222d33db81c01c1d60e35a33956578cc49a',\n",
       "   'proof': 100,\n",
       "   'timestamp': 1652922108.1245255,\n",
       "   'transactions': [{'amount': 0.1,\n",
       "     'recipient': 'node_5000',\n",
       "     'sender': 'master',\n",
       "     'timestamp': 1652922091.203008},\n",
       "    {'amount': 3,\n",
       "     'recipient': 'zzz2',\n",
       "     'sender': 'abc2',\n",
       "     'timestamp': 1652922097.7634578},\n",
       "    {'amount': 1003,\n",
       "     'recipient': 'yyy2',\n",
       "     'sender': 'def2',\n",
       "     'timestamp': 1652922097.769057},\n",
       "    {'amount': 143,\n",
       "     'recipient': 'ccc2',\n",
       "     'sender': 'tyu2',\n",
       "     'timestamp': 1652922097.7742448},\n",
       "    {'amount': 0.1,\n",
       "     'recipient': 'node_5001',\n",
       "     'sender': 'master',\n",
       "     'timestamp': 1652922108.1181383}]}],\n",
       " 'length': 3}"
      ]
     },
     "execution_count": 31,
     "metadata": {},
     "output_type": "execute_result"
    }
   ],
   "source": [
    "## 2번 노드 상태 받기!! \n",
    "headers = {'Content-Type' : 'application/json; charset=utf-8'}\n",
    "a = requests.get(\"http://localhost:5001/chain\", headers=headers)\n",
    "json.loads(a.text)"
   ]
  },
  {
   "cell_type": "code",
   "execution_count": 33,
   "id": "ca748af7",
   "metadata": {
    "scrolled": true
   },
   "outputs": [
    {
     "data": {
      "text/plain": [
       "[{'index': 1,\n",
       "  'previous_hash': 1,\n",
       "  'proof': 100,\n",
       "  'timestamp': 1652922079.5773902,\n",
       "  'transactions': []},\n",
       " {'index': 2,\n",
       "  'previous_hash': '33b0c8d6581fcdc3f6725e594c61f0f97112805aacc5a011b9703991d2e871d9',\n",
       "  'proof': 88384,\n",
       "  'timestamp': 1652922091.2056768,\n",
       "  'transactions': [{'amount': 3,\n",
       "    'recipient': 'zzz',\n",
       "    'sender': 'abc',\n",
       "    'timestamp': 1652922087.6217322},\n",
       "   {'amount': 1003,\n",
       "    'recipient': 'yyy',\n",
       "    'sender': 'def',\n",
       "    'timestamp': 1652922087.6282182},\n",
       "   {'amount': 143,\n",
       "    'recipient': 'ccc',\n",
       "    'sender': 'tyu',\n",
       "    'timestamp': 1652922087.633395},\n",
       "   {'amount': 0.1,\n",
       "    'recipient': 'node_5000',\n",
       "    'sender': 'master',\n",
       "    'timestamp': 1652922091.2005756}]},\n",
       " {'index': 3,\n",
       "  'previous_hash': 'fad2adb99ec2b0da138861fe44073222d33db81c01c1d60e35a33956578cc49a',\n",
       "  'proof': 100,\n",
       "  'timestamp': 1652922108.1245255,\n",
       "  'transactions': [{'amount': 0.1,\n",
       "    'recipient': 'node_5000',\n",
       "    'sender': 'master',\n",
       "    'timestamp': 1652922091.203008},\n",
       "   {'amount': 3,\n",
       "    'recipient': 'zzz2',\n",
       "    'sender': 'abc2',\n",
       "    'timestamp': 1652922097.7634578},\n",
       "   {'amount': 1003,\n",
       "    'recipient': 'yyy2',\n",
       "    'sender': 'def2',\n",
       "    'timestamp': 1652922097.769057},\n",
       "   {'amount': 143,\n",
       "    'recipient': 'ccc2',\n",
       "    'sender': 'tyu2',\n",
       "    'timestamp': 1652922097.7742448},\n",
       "   {'amount': 0.1,\n",
       "    'recipient': 'node_5001',\n",
       "    'sender': 'master',\n",
       "    'timestamp': 1652922108.1181383}]}]"
      ]
     },
     "execution_count": 33,
     "metadata": {},
     "output_type": "execute_result"
    }
   ],
   "source": [
    "status_json = json.loads(a.text)\n",
    "status_json['chain']"
   ]
  },
  {
   "cell_type": "code",
   "execution_count": 45,
   "id": "0bfe5d5b",
   "metadata": {},
   "outputs": [
    {
     "ename": "NameError",
     "evalue": "name 'pd' is not defined",
     "output_type": "error",
     "traceback": [
      "\u001b[0;31m---------------------------------------------------------------------------\u001b[0m",
      "\u001b[0;31mNameError\u001b[0m                                 Traceback (most recent call last)",
      "\u001b[0;32m/tmp/ipykernel_1109620/579289861.py\u001b[0m in \u001b[0;36m<module>\u001b[0;34m\u001b[0m\n\u001b[1;32m     12\u001b[0m         \u001b[0mtx_time_l\u001b[0m\u001b[0;34m.\u001b[0m\u001b[0mappend\u001b[0m\u001b[0;34m(\u001b[0m\u001b[0mchain_tx\u001b[0m\u001b[0;34m[\u001b[0m\u001b[0meach_tx\u001b[0m\u001b[0;34m]\u001b[0m\u001b[0;34m[\u001b[0m\u001b[0;34m'timestamp'\u001b[0m\u001b[0;34m]\u001b[0m\u001b[0;34m)\u001b[0m\u001b[0;34m\u001b[0m\u001b[0;34m\u001b[0m\u001b[0m\n\u001b[1;32m     13\u001b[0m \u001b[0;34m\u001b[0m\u001b[0m\n\u001b[0;32m---> 14\u001b[0;31m \u001b[0mdf_balance\u001b[0m \u001b[0;34m=\u001b[0m \u001b[0mpd\u001b[0m\u001b[0;34m.\u001b[0m\u001b[0mDataFrame\u001b[0m\u001b[0;34m(\u001b[0m\u001b[0;34m)\u001b[0m\u001b[0;34m\u001b[0m\u001b[0;34m\u001b[0m\u001b[0m\n\u001b[0m\u001b[1;32m     15\u001b[0m \u001b[0mdf_balance\u001b[0m\u001b[0;34m[\u001b[0m\u001b[0;34m'timestamp'\u001b[0m\u001b[0;34m]\u001b[0m \u001b[0;34m=\u001b[0m \u001b[0mtx_time_l\u001b[0m\u001b[0;34m\u001b[0m\u001b[0;34m\u001b[0m\u001b[0m\n\u001b[1;32m     16\u001b[0m \u001b[0mdf_balance\u001b[0m\u001b[0;34m[\u001b[0m\u001b[0;34m'sender'\u001b[0m\u001b[0;34m]\u001b[0m \u001b[0;34m=\u001b[0m \u001b[0mtx_amount_l\u001b[0m\u001b[0;34m\u001b[0m\u001b[0;34m\u001b[0m\u001b[0m\n",
      "\u001b[0;31mNameError\u001b[0m: name 'pd' is not defined"
     ]
    }
   ],
   "source": []
  },
  {
   "cell_type": "code",
   "execution_count": 44,
   "id": "8c45a343",
   "metadata": {},
   "outputs": [
    {
     "data": {
      "text/plain": [
       "0"
      ]
     },
     "execution_count": 44,
     "metadata": {},
     "output_type": "execute_result"
    }
   ],
   "source": [
    "each_tx"
   ]
  },
  {
   "cell_type": "code",
   "execution_count": 42,
   "id": "4de2b827",
   "metadata": {},
   "outputs": [
    {
     "data": {
      "text/plain": [
       "0.1"
      ]
     },
     "execution_count": 42,
     "metadata": {},
     "output_type": "execute_result"
    }
   ],
   "source": [
    "status_json['chain'][-1]['transactions'][-1]['amount']"
   ]
  }
 ],
 "metadata": {
  "kernelspec": {
   "display_name": "Python 3 (ipykernel)",
   "language": "python",
   "name": "python3"
  },
  "language_info": {
   "codemirror_mode": {
    "name": "ipython",
    "version": 3
   },
   "file_extension": ".py",
   "mimetype": "text/x-python",
   "name": "python",
   "nbconvert_exporter": "python",
   "pygments_lexer": "ipython3",
   "version": "3.9.7"
  }
 },
 "nbformat": 4,
 "nbformat_minor": 5
}
