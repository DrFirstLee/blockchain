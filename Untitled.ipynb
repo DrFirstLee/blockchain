{
 "cells": [
  {
   "cell_type": "code",
   "execution_count": 1,
   "id": "2581c202",
   "metadata": {},
   "outputs": [],
   "source": [
    "\"\"\"\n",
    "    Python implementation of POW\n",
    "    Credit: https://github.com/mycoralhealth/blockchain-tutorial\n",
    "\"\"\"\n",
    "from datetime import datetime\n",
    "import time\n",
    "from hashlib import sha256\n",
    "import json, requests\n",
    "from random import randint"
   ]
  },
  {
   "cell_type": "code",
   "execution_count": 12,
   "id": "9e943d41",
   "metadata": {},
   "outputs": [
    {
     "name": "stdout",
     "output_type": "stream",
     "text": [
      "sdf\n"
     ]
    }
   ],
   "source": [
    "if not {} :\n",
    "    print(\"sdf\")"
   ]
  },
  {
   "cell_type": "code",
   "execution_count": 19,
   "id": "4806dfc6",
   "metadata": {},
   "outputs": [
    {
     "data": {
      "text/plain": [
       "['asd', '12', '123']"
      ]
     },
     "execution_count": 19,
     "metadata": {},
     "output_type": "execute_result"
    }
   ],
   "source": [
    "validator = \"asd, 12, 123\"\n",
    "acct = (validator.rsplit(sep=', '))\n",
    "acct"
   ]
  },
  {
   "cell_type": "code",
   "execution_count": 20,
   "id": "eefa616a",
   "metadata": {},
   "outputs": [
    {
     "data": {
      "text/plain": [
       "['asd', '12', '123', 1476]"
      ]
     },
     "execution_count": 20,
     "metadata": {},
     "output_type": "execute_result"
    }
   ],
   "source": [
    "acct.append(int(acct[1]) * int(acct[2]))\n",
    "acct"
   ]
  },
  {
   "cell_type": "code",
   "execution_count": 21,
   "id": "f4b048c9",
   "metadata": {},
   "outputs": [
    {
     "data": {
      "text/plain": [
       "1476"
      ]
     },
     "execution_count": 21,
     "metadata": {},
     "output_type": "execute_result"
    }
   ],
   "source": [
    "acct[-1]"
   ]
  }
 ],
 "metadata": {
  "kernelspec": {
   "display_name": "Python 3 (ipykernel)",
   "language": "python",
   "name": "python3"
  },
  "language_info": {
   "codemirror_mode": {
    "name": "ipython",
    "version": 3
   },
   "file_extension": ".py",
   "mimetype": "text/x-python",
   "name": "python",
   "nbconvert_exporter": "python",
   "pygments_lexer": "ipython3",
   "version": "3.9.7"
  }
 },
 "nbformat": 4,
 "nbformat_minor": 5
}
