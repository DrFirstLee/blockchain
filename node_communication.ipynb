{
 "cells": [
  {
   "cell_type": "code",
   "execution_count": 182,
   "id": "3e5c4568",
   "metadata": {},
   "outputs": [],
   "source": [
    "import requests\n",
    "import json"
   ]
  },
  {
   "cell_type": "code",
   "execution_count": 183,
   "id": "4ee30790",
   "metadata": {},
   "outputs": [
    {
     "data": {
      "text/plain": [
       "b'{\"message\":\"New nodes have been added\",\"total_nodes\":[\"0.0.0.0:5001\"]}\\n'"
      ]
     },
     "execution_count": 183,
     "metadata": {},
     "output_type": "execute_result"
    }
   ],
   "source": [
    "## 노드 등록하기\n",
    "headers = {'Content-Type' : 'application/json; charset=utf-8'}\n",
    "data = {\n",
    "    \"nodes\": 'http://0.0.0.0:5001'\n",
    "}\n",
    "\n",
    "# requests.post(\"http://localhost:5000/nodes/register\", headers=headers, data=json.dumps(data))\n",
    "requests.post(\"http://localhost:5000/nodes/register\", headers=headers, data=json.dumps(data)).content"
   ]
  },
  {
   "cell_type": "code",
   "execution_count": 184,
   "id": "c4b1b68f",
   "metadata": {},
   "outputs": [
    {
     "data": {
      "text/plain": [
       "{'message': 'Node List at 2022-05-18 16:31:36',\n",
       " 'total_nodes': ['0.0.0.0:5001']}"
      ]
     },
     "execution_count": 184,
     "metadata": {},
     "output_type": "execute_result"
    }
   ],
   "source": [
    "## 등록 노드 점검\n",
    "headers = {'Content-Type' : 'application/json; charset=utf-8'}\n",
    "json.loads(requests.get(\"http://localhost:5000/nodes/check\", headers=headers).content)"
   ]
  },
  {
   "cell_type": "code",
   "execution_count": 185,
   "id": "6c7d3209",
   "metadata": {},
   "outputs": [
    {
     "data": {
      "text/plain": [
       "{'message': 'Node List at 2022-05-18 16:31:40',\n",
       " 'total_nodes': ['0.0.0.0:5000']}"
      ]
     },
     "execution_count": 185,
     "metadata": {},
     "output_type": "execute_result"
    }
   ],
   "source": [
    "## 등록 노드 점검\n",
    "headers = {'Content-Type' : 'application/json; charset=utf-8'}\n",
    "json.loads(requests.get(\"http://localhost:5001/nodes/check\", headers=headers).content)"
   ]
  },
  {
   "cell_type": "code",
   "execution_count": 186,
   "id": "a15c05fd",
   "metadata": {},
   "outputs": [
    {
     "data": {
      "text/plain": [
       "b'{\"message\":\"Transaction will be added to Block {2}\"}\\n'"
      ]
     },
     "execution_count": 186,
     "metadata": {},
     "output_type": "execute_result"
    }
   ],
   "source": [
    "## transaction 입력하기\n",
    "headers = {'Content-Type' : 'application/json; charset=utf-8'}\n",
    "data = {\n",
    "    \"sender\": 'abc',\n",
    "    \"recipient\": 'zzz',\n",
    "    \"amount\": 3,\n",
    "}\n",
    "requests.post(\"http://localhost:5000/transactions/new\", headers=headers, data=json.dumps(data)).content"
   ]
  },
  {
   "cell_type": "code",
   "execution_count": 191,
   "id": "908bfbbd",
   "metadata": {},
   "outputs": [
    {
     "name": "stdout",
     "output_type": "stream",
     "text": [
      "<Response [200]>\n"
     ]
    }
   ],
   "source": [
    "##  채굴하기\n",
    "headers = {'Content-Type' : 'application/json; charset=utf-8'}\n",
    "\n",
    "print(requests.get(\"http://localhost:5000/mine\"))"
   ]
  },
  {
   "cell_type": "code",
   "execution_count": 192,
   "id": "e0ed3d65",
   "metadata": {},
   "outputs": [
    {
     "data": {
      "text/plain": [
       "{'chain': [{'index': 1,\n",
       "   'previous_hash': 1,\n",
       "   'proof': 100,\n",
       "   'timestamp': 1652859049.025256,\n",
       "   'transactions': []},\n",
       "  {'index': 2,\n",
       "   'previous_hash': '2e7845e270d5b7b13c8c9dc2db84d7d2a6931dbbc98a617d4d1f8e6405f3f403',\n",
       "   'proof': 88384,\n",
       "   'timestamp': 1652859212.6813145,\n",
       "   'transactions': [{'amount': 3, 'recipient': 'zzz', 'sender': 'abc'},\n",
       "    {'amount': 0.1, 'recipient': 'node_5001', 'sender': 'master'},\n",
       "    {'amount': 0.1, 'recipient': 'node_5000', 'sender': 'master'}]},\n",
       "  {'index': 3,\n",
       "   'previous_hash': 'afc0b0b22282095952e29a8886e8d63555aa4b87271d074e5605fb4e91868d40',\n",
       "   'proof': 100,\n",
       "   'timestamp': 1652859217.1644104,\n",
       "   'transactions': [{'amount': 0.1,\n",
       "     'recipient': 'node_5000',\n",
       "     'sender': 'master'}]}],\n",
       " 'length': 3}"
      ]
     },
     "execution_count": 192,
     "metadata": {},
     "output_type": "execute_result"
    }
   ],
   "source": [
    "## 1번 노드 상태 받기!! >> ㅇㅋㅇㅋ\n",
    "\n",
    "headers = {'Content-Type' : 'application/json; charset=utf-8'}\n",
    "a = requests.get(\"http://localhost:5000/chain\", headers=headers)\n",
    "json.loads(a.text)"
   ]
  },
  {
   "cell_type": "code",
   "execution_count": 193,
   "id": "a4ab32cb",
   "metadata": {},
   "outputs": [
    {
     "data": {
      "text/plain": [
       "{'chain': [{'index': 1,\n",
       "   'previous_hash': 1,\n",
       "   'proof': 100,\n",
       "   'timestamp': 1652859055.7362137,\n",
       "   'transactions': []},\n",
       "  {'index': 2,\n",
       "   'previous_hash': 'ca0a79cb564213a33d6687de936c3ecb119da45422f91d17f79468e33e5b0ade',\n",
       "   'proof': 88384,\n",
       "   'timestamp': 1652859150.7297843,\n",
       "   'transactions': [{'amount': 0.1,\n",
       "     'recipient': 'node_5001',\n",
       "     'sender': 'master'}]}],\n",
       " 'length': 2}"
      ]
     },
     "execution_count": 193,
     "metadata": {},
     "output_type": "execute_result"
    }
   ],
   "source": [
    "## 2번 노드 상태 받기!! >> 아직 블록생성이 안되어 바뀐것이 없음\n",
    "\n",
    "headers = {'Content-Type' : 'application/json; charset=utf-8'}\n",
    "a = requests.get(\"http://localhost:5001/chain\", headers=headers)\n",
    "json.loads(a.text)"
   ]
  },
  {
   "cell_type": "code",
   "execution_count": 188,
   "id": "24ff0dd4",
   "metadata": {},
   "outputs": [
    {
     "name": "stdout",
     "output_type": "stream",
     "text": [
      "<Response [200]>\n"
     ]
    }
   ],
   "source": [
    "##  22 채굴하기\n",
    "headers = {'Content-Type' : 'application/json; charset=utf-8'}\n",
    "\n",
    "print(requests.get(\"http://localhost:5001/mine\"))"
   ]
  },
  {
   "cell_type": "code",
   "execution_count": 176,
   "id": "e73ceacf",
   "metadata": {},
   "outputs": [
    {
     "data": {
      "text/plain": [
       "{'chain': [{'index': 1,\n",
       "   'previous_hash': 1,\n",
       "   'proof': 100,\n",
       "   'timestamp': 1652834489.6954522,\n",
       "   'transactions': []},\n",
       "  {'index': 2,\n",
       "   'previous_hash': '484f0f6249f038d9e89d20849e78505f5a205f54a3d06c730ac17bde3269f26b',\n",
       "   'proof': 88384,\n",
       "   'timestamp': 1652834509.2253869,\n",
       "   'transactions': [{'amount': 3, 'recipient': 'zzz', 'sender': 'abc'},\n",
       "    {'amount': 3, 'recipient': 'zzz', 'sender': 'abc'},\n",
       "    {'amount': 0.1, 'recipient': 'node_5000', 'sender': 'master'}]},\n",
       "  {'index': 3,\n",
       "   'previous_hash': '053dbdc0e3c412d3ed2531a39127619913d4668f1b0cc52be6f0a68c58b890b0',\n",
       "   'proof': 100,\n",
       "   'timestamp': 1652834543.1230738,\n",
       "   'transactions': [{'amount': 0.1,\n",
       "     'recipient': 'node_5001',\n",
       "     'sender': 'master'},\n",
       "    {'amount': 0.1, 'recipient': 'node_5000', 'sender': 'master'}]}],\n",
       " 'length': 3}"
      ]
     },
     "execution_count": 176,
     "metadata": {},
     "output_type": "execute_result"
    }
   ],
   "source": [
    "## 1번 노드 상태 받기!! >> ㅇㅋㅇㅋ\n",
    "\n",
    "headers = {'Content-Type' : 'application/json; charset=utf-8'}\n",
    "a = requests.get(\"http://localhost:5000/chain\", headers=headers)\n",
    "json.loads(a.text)"
   ]
  },
  {
   "cell_type": "code",
   "execution_count": 194,
   "id": "67b4efe4",
   "metadata": {},
   "outputs": [
    {
     "data": {
      "text/plain": [
       "{'chain': [{'index': 1,\n",
       "   'previous_hash': 1,\n",
       "   'proof': 100,\n",
       "   'timestamp': 1652860094.826789,\n",
       "   'transactions': []},\n",
       "  {'index': 2,\n",
       "   'previous_hash': '3c03b99c0d7f78790dbbf821d9f1f03c59adae65c3ae5b957a9be6ac18cefdc0',\n",
       "   'proof': 88384,\n",
       "   'timestamp': 1652860154.915192,\n",
       "   'transactions': [{'amount': 3, 'recipient': 'zzz', 'sender': 'abc'},\n",
       "    {'amount': 0.1, 'recipient': 'node_5000', 'sender': 'master'}]},\n",
       "  {'index': 3,\n",
       "   'previous_hash': 'b54fa19161a3393be761a6452a13f0b1bacf211987ea96732cc46c68b30d315b',\n",
       "   'proof': 100,\n",
       "   'timestamp': 1652860202.086529,\n",
       "   'transactions': [{'amount': 0.1,\n",
       "     'recipient': 'node_5000',\n",
       "     'sender': 'master'},\n",
       "    {'amount': 3, 'recipient': 'zzz_2', 'sender': 'abc_2'},\n",
       "    {'amount': 0.1, 'recipient': 'node_5001', 'sender': 'master'}]}],\n",
       " 'length': 3}"
      ]
     },
     "execution_count": 194,
     "metadata": {},
     "output_type": "execute_result"
    }
   ],
   "source": [
    "## 2번 노드 상태 받기!! >> 아직 블록생성이 안되어 바뀐것이 없음\n",
    "\n",
    "headers = {'Content-Type' : 'application/json; charset=utf-8'}\n",
    "a = requests.get(\"http://localhost:5001/chain\", headers=headers)\n",
    "json.loads(a.text)"
   ]
  },
  {
   "cell_type": "code",
   "execution_count": 196,
   "id": "e5586696",
   "metadata": {},
   "outputs": [
    {
     "data": {
      "text/plain": [
       "[{'index': 1,\n",
       "  'previous_hash': 1,\n",
       "  'proof': 100,\n",
       "  'timestamp': 1652860094.826789,\n",
       "  'transactions': []},\n",
       " {'index': 2,\n",
       "  'previous_hash': '3c03b99c0d7f78790dbbf821d9f1f03c59adae65c3ae5b957a9be6ac18cefdc0',\n",
       "  'proof': 88384,\n",
       "  'timestamp': 1652860154.915192,\n",
       "  'transactions': [{'amount': 3, 'recipient': 'zzz', 'sender': 'abc'},\n",
       "   {'amount': 0.1, 'recipient': 'node_5000', 'sender': 'master'}]},\n",
       " {'index': 3,\n",
       "  'previous_hash': 'b54fa19161a3393be761a6452a13f0b1bacf211987ea96732cc46c68b30d315b',\n",
       "  'proof': 100,\n",
       "  'timestamp': 1652860202.086529,\n",
       "  'transactions': [{'amount': 0.1,\n",
       "    'recipient': 'node_5000',\n",
       "    'sender': 'master'},\n",
       "   {'amount': 3, 'recipient': 'zzz_2', 'sender': 'abc_2'},\n",
       "   {'amount': 0.1, 'recipient': 'node_5001', 'sender': 'master'}]}]"
      ]
     },
     "execution_count": 196,
     "metadata": {},
     "output_type": "execute_result"
    }
   ],
   "source": [
    "json.loads(a.text)['chain']"
   ]
  },
  {
   "cell_type": "code",
   "execution_count": 197,
   "id": "5f1f5a55",
   "metadata": {},
   "outputs": [
    {
     "data": {
      "text/plain": [
       "{'index': 3,\n",
       " 'previous_hash': 'b54fa19161a3393be761a6452a13f0b1bacf211987ea96732cc46c68b30d315b',\n",
       " 'proof': 100,\n",
       " 'timestamp': 1652860202.086529,\n",
       " 'transactions': [{'amount': 0.1,\n",
       "   'recipient': 'node_5000',\n",
       "   'sender': 'master'},\n",
       "  {'amount': 3, 'recipient': 'zzz_2', 'sender': 'abc_2'},\n",
       "  {'amount': 0.1, 'recipient': 'node_5001', 'sender': 'master'}]}"
      ]
     },
     "execution_count": 197,
     "metadata": {},
     "output_type": "execute_result"
    }
   ],
   "source": [
    "json.loads(a.text)['chain'][-1]"
   ]
  }
 ],
 "metadata": {
  "kernelspec": {
   "display_name": "Python 3 (ipykernel)",
   "language": "python",
   "name": "python3"
  },
  "language_info": {
   "codemirror_mode": {
    "name": "ipython",
    "version": 3
   },
   "file_extension": ".py",
   "mimetype": "text/x-python",
   "name": "python",
   "nbconvert_exporter": "python",
   "pygments_lexer": "ipython3",
   "version": "3.9.7"
  }
 },
 "nbformat": 4,
 "nbformat_minor": 5
}
