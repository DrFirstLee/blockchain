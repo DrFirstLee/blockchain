{
 "cells": [
  {
   "cell_type": "code",
   "execution_count": 92,
   "id": "4eb12af7",
   "metadata": {},
   "outputs": [],
   "source": [
    "import requests\n",
    "import json"
   ]
  },
  {
   "cell_type": "code",
   "execution_count": 129,
   "id": "33523cf7",
   "metadata": {},
   "outputs": [
    {
     "data": {
      "text/plain": [
       "'{\"chain\":[{\"index\":1,\"previous_hash\":1,\"proof\":100,\"timestamp\":1652445144.6309328,\"transactions\":[]},{\"index\":2,\"previous_hash\":\"3aadac97749e57dce0525d128543f9ba5d0157cb2eb92a98a37a4bcbe0711158\",\"proof\":88384,\"timestamp\":1652445155.6234016,\"transactions\":[{\"amount\":1004,\"recipient\":1005,\"sender\":1004},{\"amount\":1,\"recipient\":\"2c0d6bb7fc023e736f7d015966b96b05d185fa5237d0c8b407347e5e0c1b482f\",\"sender\":\"0\"}]},{\"index\":3,\"previous_hash\":\"b8016f365fb716d73f3aa1463ff75bae65ac5a9db010b739d9f0785af296b99d\",\"proof\":100,\"timestamp\":1652445670.1088984,\"transactions\":[{\"amount\":1004,\"recipient\":1005,\"sender\":1004},{\"amount\":1,\"recipient\":\"2c0d6bb7fc023e736f7d015966b96b05d185fa5237d0c8b407347e5e0c1b482f\",\"sender\":\"0\"}]},{\"index\":4,\"previous_hash\":\"444d88f0253b4dc29debdd17c686a3ec9e14158ea3c9627a8f693af3108983c1\",\"proof\":88384,\"timestamp\":1652446372.8048859,\"transactions\":[{\"amount\":1004,\"recipient\":1005,\"sender\":1004},{\"amount\":1,\"recipient\":\"2c0d6bb7fc023e736f7d015966b96b05d185fa5237d0c8b407347e5e0c1b482f\",\"sender\":\"0\"}]}],\"length\":4}\\n'"
      ]
     },
     "execution_count": 129,
     "metadata": {},
     "output_type": "execute_result"
    }
   ],
   "source": [
    "## 블록체인 상태 받기!!\n",
    "\n",
    "headers = {'Content-Type' : 'application/json; charset=utf-8'}\n",
    "data = {\n",
    "    \"sender\": 1004,\n",
    "    \"recipient\": 0,\n",
    "    \"amount\": 1004,\n",
    "}\n",
    "a = requests.get(\"http://localhost:5000/chain\", headers=headers)\n",
    "a.text"
   ]
  },
  {
   "cell_type": "code",
   "execution_count": 133,
   "id": "1424b149",
   "metadata": {},
   "outputs": [
    {
     "data": {
      "text/plain": [
       "['0.0.0.0:5001']"
      ]
     },
     "execution_count": 133,
     "metadata": {},
     "output_type": "execute_result"
    }
   ],
   "source": [
    "## 모든 노드에 함께 업데이트하자!!\n",
    "## 노드 등록하기\n",
    "headers = {'Content-Type' : 'application/json; charset=utf-8'}\n",
    "data = {\n",
    "    \"nodes\": 'http://0.0.0.0:5001'\n",
    "}\n",
    "all_node_list = json.loads(requests.post(\"http://localhost:5000/nodes/register\", headers=headers, data=json.dumps(data)).content)\n",
    "all_node_list['total_nodes']"
   ]
  },
  {
   "cell_type": "code",
   "execution_count": null,
   "id": "538a2185",
   "metadata": {},
   "outputs": [],
   "source": [
    "## 이후에는 모든노드에 같이 업데이트하자!!!~~~"
   ]
  },
  {
   "cell_type": "code",
   "execution_count": 123,
   "id": "d1c1aff0",
   "metadata": {},
   "outputs": [
    {
     "name": "stdout",
     "output_type": "stream",
     "text": [
      "b'{\"message\":\"Transaction will be added to Block {4}\"}\\n'\n"
     ]
    }
   ],
   "source": [
    "## transaction 입력하기\n",
    "headers = {'Content-Type' : 'application/json; charset=utf-8'}\n",
    "data = {\n",
    "    \"sender\": 1004,\n",
    "    \"recipient\":1005,\n",
    "    \"amount\": 1004,\n",
    "}\n",
    "print(requests.post(\"http://localhost:5000/transactions/new\", headers=headers, data=json.dumps(data)).content)"
   ]
  },
  {
   "cell_type": "code",
   "execution_count": 95,
   "id": "4aa4a8bd",
   "metadata": {},
   "outputs": [
    {
     "name": "stdout",
     "output_type": "stream",
     "text": [
      "b'{\"message\":\"Transaction will be added to Block {2}\"}\\n'\n"
     ]
    }
   ],
   "source": [
    "## 2번에도 transaction 입력하기\n",
    "headers = {'Content-Type' : 'application/json; charset=utf-8'}\n",
    "data = {\n",
    "    \"sender\": 22222,\n",
    "    \"recipient\":22225,\n",
    "    \"amount\": 2222,\n",
    "}\n",
    "print(requests.post(\"http://localhost:5001/transactions/new\", headers=headers, data=json.dumps(data)).content)"
   ]
  },
  {
   "cell_type": "code",
   "execution_count": 98,
   "id": "e7e670ed",
   "metadata": {},
   "outputs": [
    {
     "name": "stdout",
     "output_type": "stream",
     "text": [
      "b'{\"message\":\"Transaction will be added to Block {2}\"}\\n'\n"
     ]
    }
   ],
   "source": [
    "## 2번에도 transaction 입력하기 2번쨰\n",
    "headers = {'Content-Type' : 'application/json; charset=utf-8'}\n",
    "data = {\n",
    "    \"sender\": 22222_2,\n",
    "    \"recipient\":22225,\n",
    "    \"amount\": 2222_2,\n",
    "}\n",
    "print(requests.post(\"http://localhost:5001/transactions/new\", headers=headers, data=json.dumps(data)).content)"
   ]
  },
  {
   "cell_type": "code",
   "execution_count": 124,
   "id": "fe447d90",
   "metadata": {},
   "outputs": [
    {
     "data": {
      "text/plain": [
       "'{\"chain\":[{\"index\":1,\"previous_hash\":1,\"proof\":100,\"timestamp\":1652445144.6309328,\"transactions\":[]},{\"index\":2,\"previous_hash\":\"3aadac97749e57dce0525d128543f9ba5d0157cb2eb92a98a37a4bcbe0711158\",\"proof\":88384,\"timestamp\":1652445155.6234016,\"transactions\":[{\"amount\":1004,\"recipient\":1005,\"sender\":1004},{\"amount\":1,\"recipient\":\"2c0d6bb7fc023e736f7d015966b96b05d185fa5237d0c8b407347e5e0c1b482f\",\"sender\":\"0\"}]},{\"index\":3,\"previous_hash\":\"b8016f365fb716d73f3aa1463ff75bae65ac5a9db010b739d9f0785af296b99d\",\"proof\":100,\"timestamp\":1652445670.1088984,\"transactions\":[{\"amount\":1004,\"recipient\":1005,\"sender\":1004},{\"amount\":1,\"recipient\":\"2c0d6bb7fc023e736f7d015966b96b05d185fa5237d0c8b407347e5e0c1b482f\",\"sender\":\"0\"}]}],\"length\":3}\\n'"
      ]
     },
     "execution_count": 124,
     "metadata": {},
     "output_type": "execute_result"
    }
   ],
   "source": [
    "## 블록체인 상태 받기!! >> 아직 블록생성이 안되어 바뀐것이 없음\n",
    "\n",
    "headers = {'Content-Type' : 'application/json; charset=utf-8'}\n",
    "a = requests.get(\"http://localhost:5000/chain\", headers=headers)\n",
    "a.text"
   ]
  },
  {
   "cell_type": "code",
   "execution_count": 121,
   "id": "f5bc2376",
   "metadata": {},
   "outputs": [
    {
     "data": {
      "text/plain": [
       "'{\"chain\":[{\"index\":1,\"previous_hash\":1,\"proof\":100,\"timestamp\":1652445144.6309328,\"transactions\":[]},{\"index\":2,\"previous_hash\":\"3aadac97749e57dce0525d128543f9ba5d0157cb2eb92a98a37a4bcbe0711158\",\"proof\":88384,\"timestamp\":1652445155.6234016,\"transactions\":[{\"amount\":1004,\"recipient\":1005,\"sender\":1004},{\"amount\":1,\"recipient\":\"2c0d6bb7fc023e736f7d015966b96b05d185fa5237d0c8b407347e5e0c1b482f\",\"sender\":\"0\"}]},{\"index\":3,\"previous_hash\":\"b8016f365fb716d73f3aa1463ff75bae65ac5a9db010b739d9f0785af296b99d\",\"proof\":100,\"timestamp\":1652445670.1088984,\"transactions\":[{\"amount\":1004,\"recipient\":1005,\"sender\":1004},{\"amount\":1,\"recipient\":\"2c0d6bb7fc023e736f7d015966b96b05d185fa5237d0c8b407347e5e0c1b482f\",\"sender\":\"0\"}]}],\"length\":3}\\n'"
      ]
     },
     "execution_count": 121,
     "metadata": {},
     "output_type": "execute_result"
    }
   ],
   "source": [
    "## 22블록체인 상태 받기!! >> 아직 블록생성이 안되어 바뀐것이 없음\n",
    "\n",
    "headers = {'Content-Type' : 'application/json; charset=utf-8'}\n",
    "a = requests.get(\"http://localhost:5001/chain\", headers=headers)\n",
    "a.text"
   ]
  },
  {
   "cell_type": "code",
   "execution_count": 101,
   "id": "7fdfe17b",
   "metadata": {},
   "outputs": [
    {
     "name": "stdout",
     "output_type": "stream",
     "text": [
      "b'{\"message\":\"New nodes have been added\",\"total_nodes\":[\"0.0.0.0:5001\"]}\\n'\n"
     ]
    }
   ],
   "source": [
    "## 노드 등록하기\n",
    "headers = {'Content-Type' : 'application/json; charset=utf-8'}\n",
    "data = {\n",
    "    \"nodes\": 'http://0.0.0.0:5001'\n",
    "}\n",
    "\n",
    "print(requests.post(\"http://localhost:5000/nodes/register\", headers=headers, data=json.dumps(data)).content)"
   ]
  },
  {
   "cell_type": "code",
   "execution_count": 119,
   "id": "8ace8a4e",
   "metadata": {},
   "outputs": [
    {
     "name": "stdout",
     "output_type": "stream",
     "text": [
      "b'{\"message\":\"New nodes have been added\",\"total_nodes\":[\"0.0.0.0:5000\"]}\\n'\n"
     ]
    }
   ],
   "source": [
    "## 노드 등록하기\n",
    "headers = {'Content-Type' : 'application/json; charset=utf-8'}\n",
    "data = {\n",
    "    \"nodes\": 'http://0.0.0.0:5000'\n",
    "}\n",
    "\n",
    "print(requests.post(\"http://localhost:5001/nodes/register\", headers=headers, data=json.dumps(data)).content)"
   ]
  },
  {
   "cell_type": "code",
   "execution_count": 103,
   "id": "99cfd414",
   "metadata": {},
   "outputs": [
    {
     "data": {
      "text/plain": [
       "'{\"chain\":[{\"index\":1,\"previous_hash\":1,\"proof\":100,\"timestamp\":1652445144.6309328,\"transactions\":[]},{\"index\":2,\"previous_hash\":\"3aadac97749e57dce0525d128543f9ba5d0157cb2eb92a98a37a4bcbe0711158\",\"proof\":88384,\"timestamp\":1652445155.6234016,\"transactions\":[{\"amount\":1004,\"recipient\":1005,\"sender\":1004},{\"amount\":1,\"recipient\":\"2c0d6bb7fc023e736f7d015966b96b05d185fa5237d0c8b407347e5e0c1b482f\",\"sender\":\"0\"}]}],\"length\":2}\\n'"
      ]
     },
     "execution_count": 103,
     "metadata": {},
     "output_type": "execute_result"
    }
   ],
   "source": [
    "## 블록체인 상태 받기!! >> 채굴 전 : 바쀤것이 없음\n",
    "\n",
    "headers = {'Content-Type' : 'application/json; charset=utf-8'}\n",
    "data = {\n",
    "    \"sender\": 1004,\n",
    "    \"recipient\": 0,\n",
    "    \"amount\": 1004,\n",
    "}\n",
    "a = requests.get(\"http://localhost:5000/chain\", headers=headers)\n",
    "a.text"
   ]
  },
  {
   "cell_type": "code",
   "execution_count": 125,
   "id": "801cf614",
   "metadata": {},
   "outputs": [
    {
     "name": "stdout",
     "output_type": "stream",
     "text": [
      "b'{\"index\":4,\"message\":\"new block found\",\"previous_hash\":\"444d88f0253b4dc29debdd17c686a3ec9e14158ea3c9627a8f693af3108983c1\",\"proof\":88384,\"transactions\":[{\"amount\":1004,\"recipient\":1005,\"sender\":1004},{\"amount\":1,\"recipient\":\"2c0d6bb7fc023e736f7d015966b96b05d185fa5237d0c8b407347e5e0c1b482f\",\"sender\":\"0\"}]}\\n'\n"
     ]
    }
   ],
   "source": [
    "##  채굴하기\n",
    "headers = {'Content-Type' : 'application/json; charset=utf-8'}\n",
    "data = {\n",
    "    \"nodes\": 'second_node'\n",
    "}\n",
    "\n",
    "print(requests.get(\"http://localhost:5000/mine\").content)"
   ]
  },
  {
   "cell_type": "code",
   "execution_count": 105,
   "id": "69b702d1",
   "metadata": {},
   "outputs": [
    {
     "name": "stdout",
     "output_type": "stream",
     "text": [
      "b'{\"index\":2,\"message\":\"new block found\",\"previous_hash\":\"be8372ed04427447664022780cb3d3c3706eabec042b02fc845ff3591cff6f61\",\"proof\":88384,\"transactions\":[{\"amount\":2222,\"recipient\":22225,\"sender\":22222},{\"amount\":22222,\"recipient\":22225,\"sender\":222222},{\"amount\":22222,\"recipient\":22225,\"sender\":222222},{\"amount\":22222,\"recipient\":22225,\"sender\":222222},{\"amount\":1,\"recipient\":\"07146919d840d6e87db6ed2364e44f7fcfcedb50742505e6a6e70e09a1539c6f\",\"sender\":\"0\"}]}\\n'\n"
     ]
    }
   ],
   "source": [
    "##  2222채굴하기\n",
    "headers = {'Content-Type' : 'application/json; charset=utf-8'}\n",
    "data = {\n",
    "    \"nodes\": 'second_node'\n",
    "}\n",
    "\n",
    "print(requests.get(\"http://localhost:5001/mine\").content)"
   ]
  },
  {
   "cell_type": "code",
   "execution_count": 108,
   "id": "21e549e3",
   "metadata": {},
   "outputs": [
    {
     "name": "stdout",
     "output_type": "stream",
     "text": [
      "b'{\"index\":5,\"message\":\"new block found\",\"previous_hash\":\"771543a89aa5707d6315e76ba2222a49446bcb200e38f198bcb2fe2851675ad8\",\"proof\":100,\"transactions\":[{\"amount\":1,\"recipient\":\"07146919d840d6e87db6ed2364e44f7fcfcedb50742505e6a6e70e09a1539c6f\",\"sender\":\"0\"}]}\\n'\n"
     ]
    }
   ],
   "source": [
    "##  2222채굴하기 - 2\n",
    "headers = {'Content-Type' : 'application/json; charset=utf-8'}\n",
    "data = {\n",
    "    \"nodes\": 'second_node'\n",
    "}\n",
    "\n",
    "print(requests.get(\"http://localhost:5001/mine\").content)"
   ]
  },
  {
   "cell_type": "code",
   "execution_count": 109,
   "id": "6462ee8b",
   "metadata": {},
   "outputs": [
    {
     "data": {
      "text/plain": [
       "'{\"chain\":[{\"index\":1,\"previous_hash\":1,\"proof\":100,\"timestamp\":1652445144.6309328,\"transactions\":[]},{\"index\":2,\"previous_hash\":\"3aadac97749e57dce0525d128543f9ba5d0157cb2eb92a98a37a4bcbe0711158\",\"proof\":88384,\"timestamp\":1652445155.6234016,\"transactions\":[{\"amount\":1004,\"recipient\":1005,\"sender\":1004},{\"amount\":1,\"recipient\":\"2c0d6bb7fc023e736f7d015966b96b05d185fa5237d0c8b407347e5e0c1b482f\",\"sender\":\"0\"}]},{\"index\":3,\"previous_hash\":\"b8016f365fb716d73f3aa1463ff75bae65ac5a9db010b739d9f0785af296b99d\",\"proof\":100,\"timestamp\":1652445670.1088984,\"transactions\":[{\"amount\":1004,\"recipient\":1005,\"sender\":1004},{\"amount\":1,\"recipient\":\"2c0d6bb7fc023e736f7d015966b96b05d185fa5237d0c8b407347e5e0c1b482f\",\"sender\":\"0\"}]}],\"length\":3}\\n'"
      ]
     },
     "execution_count": 109,
     "metadata": {},
     "output_type": "execute_result"
    }
   ],
   "source": [
    "## 블록체인 상태 받기!! >> 채굴이 되어서 추가 노드가 입력이됨\n",
    "## 마지막 체인에 앞에서 준 transaction 데이터가 있음\n",
    "headers = {'Content-Type' : 'application/json; charset=utf-8'}\n",
    "a = requests.get(\"http://localhost:5000/chain\", headers=headers)\n",
    "a.text"
   ]
  },
  {
   "cell_type": "code",
   "execution_count": 115,
   "id": "81fadc42",
   "metadata": {},
   "outputs": [
    {
     "data": {
      "text/plain": [
       "'{\"chain\":[{\"index\":1,\"previous_hash\":1,\"proof\":100,\"timestamp\":1652445791.3930848,\"transactions\":[]}],\"length\":1}\\n'"
      ]
     },
     "execution_count": 115,
     "metadata": {},
     "output_type": "execute_result"
    }
   ],
   "source": [
    "## 블록체인 상태 받기!! >> 채굴이 되어서 추가 노드가 입력이됨\n",
    "## 마지막 체인에 앞에서 준 transaction 데이터가 있음\n",
    "headers = {'Content-Type' : 'application/json; charset=utf-8'}\n",
    "a = requests.get(\"http://localhost:5001/chain\", headers=headers)\n",
    "a.text"
   ]
  },
  {
   "cell_type": "code",
   "execution_count": 127,
   "id": "f1d952ae",
   "metadata": {},
   "outputs": [
    {
     "data": {
      "text/plain": [
       "'{\"chain\":[{\"index\":1,\"previous_hash\":1,\"proof\":100,\"timestamp\":1652445144.6309328,\"transactions\":[]},{\"index\":2,\"previous_hash\":\"3aadac97749e57dce0525d128543f9ba5d0157cb2eb92a98a37a4bcbe0711158\",\"proof\":88384,\"timestamp\":1652445155.6234016,\"transactions\":[{\"amount\":1004,\"recipient\":1005,\"sender\":1004},{\"amount\":1,\"recipient\":\"2c0d6bb7fc023e736f7d015966b96b05d185fa5237d0c8b407347e5e0c1b482f\",\"sender\":\"0\"}]},{\"index\":3,\"previous_hash\":\"b8016f365fb716d73f3aa1463ff75bae65ac5a9db010b739d9f0785af296b99d\",\"proof\":100,\"timestamp\":1652445670.1088984,\"transactions\":[{\"amount\":1004,\"recipient\":1005,\"sender\":1004},{\"amount\":1,\"recipient\":\"2c0d6bb7fc023e736f7d015966b96b05d185fa5237d0c8b407347e5e0c1b482f\",\"sender\":\"0\"}]},{\"index\":4,\"previous_hash\":\"444d88f0253b4dc29debdd17c686a3ec9e14158ea3c9627a8f693af3108983c1\",\"proof\":88384,\"timestamp\":1652446372.8048859,\"transactions\":[{\"amount\":1004,\"recipient\":1005,\"sender\":1004},{\"amount\":1,\"recipient\":\"2c0d6bb7fc023e736f7d015966b96b05d185fa5237d0c8b407347e5e0c1b482f\",\"sender\":\"0\"}]}],\"message\":\"Our chain is authoritative\"}\\n'"
      ]
     },
     "execution_count": 127,
     "metadata": {},
     "output_type": "execute_result"
    }
   ],
   "source": [
    "## 다른노드에 보내디!\n",
    "headers = {'Content-Type' : 'application/json; charset=utf-8'}\n",
    "a = requests.get(\"http://localhost:5000/nodes/resolve\", headers=headers)\n",
    "a.text"
   ]
  },
  {
   "cell_type": "code",
   "execution_count": 120,
   "id": "226005fe",
   "metadata": {},
   "outputs": [
    {
     "data": {
      "text/plain": [
       "'{\"message\":\"Our chain was replaced\",\"new_chain\":[{\"index\":1,\"previous_hash\":1,\"proof\":100,\"timestamp\":1652445144.6309328,\"transactions\":[]},{\"index\":2,\"previous_hash\":\"3aadac97749e57dce0525d128543f9ba5d0157cb2eb92a98a37a4bcbe0711158\",\"proof\":88384,\"timestamp\":1652445155.6234016,\"transactions\":[{\"amount\":1004,\"recipient\":1005,\"sender\":1004},{\"amount\":1,\"recipient\":\"2c0d6bb7fc023e736f7d015966b96b05d185fa5237d0c8b407347e5e0c1b482f\",\"sender\":\"0\"}]},{\"index\":3,\"previous_hash\":\"b8016f365fb716d73f3aa1463ff75bae65ac5a9db010b739d9f0785af296b99d\",\"proof\":100,\"timestamp\":1652445670.1088984,\"transactions\":[{\"amount\":1004,\"recipient\":1005,\"sender\":1004},{\"amount\":1,\"recipient\":\"2c0d6bb7fc023e736f7d015966b96b05d185fa5237d0c8b407347e5e0c1b482f\",\"sender\":\"0\"}]}]}\\n'"
      ]
     },
     "execution_count": 120,
     "metadata": {},
     "output_type": "execute_result"
    }
   ],
   "source": [
    "## 다른노드에 보내디!\n",
    "headers = {'Content-Type' : 'application/json; charset=utf-8'}\n",
    "a = requests.get(\"http://localhost:5001/nodes/resolve\", headers=headers)\n",
    "a.text"
   ]
  },
  {
   "cell_type": "code",
   "execution_count": 44,
   "id": "ee336f69",
   "metadata": {},
   "outputs": [
    {
     "name": "stdout",
     "output_type": "stream",
     "text": [
      "b'{\"index\":3,\"message\":\"new block found\",\"previous_hash\":\"12d6b6a375ebd5e3545f366899e1565a3aa04bb2afef42eb4c533a07947cb796\",\"proof\":100,\"transactions\":[{\"amount\":1,\"recipient\":\"2c0d6bb7fc023e736f7d015966b96b05d185fa5237d0c8b407347e5e0c1b482f\",\"sender\":\"0\"}]}\\n'\n"
     ]
    }
   ],
   "source": [
    "##  채굴하기\n",
    "headers = {'Content-Type' : 'application/json; charset=utf-8'}\n",
    "print(requests.get(\"http://localhost:5000/mine\").content)"
   ]
  },
  {
   "cell_type": "code",
   "execution_count": 45,
   "id": "a7217fa3",
   "metadata": {},
   "outputs": [
    {
     "name": "stdout",
     "output_type": "stream",
     "text": [
      "b'{\"index\":4,\"message\":\"new block found\",\"previous_hash\":\"288b864c5cc48549f04fb1972efc93f9edac9b35d5efecad68472a2e23afa308\",\"proof\":88384,\"transactions\":[{\"amount\":1,\"recipient\":\"2c0d6bb7fc023e736f7d015966b96b05d185fa5237d0c8b407347e5e0c1b482f\",\"sender\":\"0\"}]}\\n'\n"
     ]
    }
   ],
   "source": [
    "##  채굴하기\n",
    "headers = {'Content-Type' : 'application/json; charset=utf-8'}\n",
    "## 내 지갑번호를 넣어야해!!\n",
    "print(requests.get(\"http://localhost:5000/mine\").content)"
   ]
  },
  {
   "cell_type": "code",
   "execution_count": 24,
   "id": "f63db861",
   "metadata": {},
   "outputs": [
    {
     "data": {
      "text/plain": [
       "'{\"chain\":[{\"index\":1,\"previous_hash\":1,\"proof\":100,\"timestamp\":1652444414.4130914,\"transactions\":[]},{\"index\":2,\"previous_hash\":\"785cbf9d25fa9b9ae2a6de9b21081fc2b2729aa45bcd5d6cc75eaa6b29d344bf\",\"proof\":88384,\"timestamp\":1652444428.2899017,\"transactions\":[{\"amount\":1004,\"recipient\":1005,\"sender\":1004},{\"amount\":1,\"recipient\":\"6d0fb33831e94b4daf8716c07575ebd1\",\"sender\":\"0\"}]},{\"index\":3,\"previous_hash\":\"412e2e30235be937a40ebaab248a7990fbd660063f4343df5009f0d30c3b3420\",\"proof\":100,\"timestamp\":1652444429.5131123,\"transactions\":[{\"amount\":1,\"recipient\":\"6d0fb33831e94b4daf8716c07575ebd1\",\"sender\":\"0\"}]},{\"index\":4,\"previous_hash\":\"567bd04331e1b96e3155952d2acc44fdcd9e58b15d53572fdcc5aa6309802099\",\"proof\":88384,\"timestamp\":1652444443.766905,\"transactions\":[{\"amount\":1,\"recipient\":\"6d0fb33831e94b4daf8716c07575ebd1\",\"sender\":\"0\"}]}],\"length\":4}\\n'"
      ]
     },
     "execution_count": 24,
     "metadata": {},
     "output_type": "execute_result"
    }
   ],
   "source": [
    "## 블록체인 상태 받기!! >>  아무 transaction 없이 채결됨 어떨까? \n",
    "headers = {'Content-Type' : 'application/json; charset=utf-8'}\n",
    "a = requests.get(\"http://localhost:5000/chain\", headers=headers)\n",
    "a.text\n",
    "\n",
    "### 채굴한 사람한태 1개씩 지급됨!!!"
   ]
  },
  {
   "cell_type": "code",
   "execution_count": 29,
   "id": "fb83ac6d",
   "metadata": {},
   "outputs": [
    {
     "data": {
      "text/plain": [
       "'27051dc2f9af45b099f504d6c393d556'"
      ]
     },
     "execution_count": 29,
     "metadata": {},
     "output_type": "execute_result"
    }
   ],
   "source": [
    "from uuid import uuid4\n",
    "str(uuid4()).replace('-','')"
   ]
  },
  {
   "cell_type": "code",
   "execution_count": 34,
   "id": "d48beae4",
   "metadata": {},
   "outputs": [
    {
     "data": {
      "text/plain": [
       "UUID('1fe4fa2c-0be9-4eb2-8bbf-dd468bf6adf7')"
      ]
     },
     "execution_count": 34,
     "metadata": {},
     "output_type": "execute_result"
    }
   ],
   "source": [
    "uuid4()"
   ]
  },
  {
   "cell_type": "code",
   "execution_count": 25,
   "id": "9f54508e",
   "metadata": {},
   "outputs": [
    {
     "data": {
      "text/plain": [
       "{'chain': [{'index': 1,\n",
       "   'previous_hash': 1,\n",
       "   'proof': 100,\n",
       "   'timestamp': 1652444414.4130914,\n",
       "   'transactions': []},\n",
       "  {'index': 2,\n",
       "   'previous_hash': '785cbf9d25fa9b9ae2a6de9b21081fc2b2729aa45bcd5d6cc75eaa6b29d344bf',\n",
       "   'proof': 88384,\n",
       "   'timestamp': 1652444428.2899017,\n",
       "   'transactions': [{'amount': 1004, 'recipient': 1005, 'sender': 1004},\n",
       "    {'amount': 1,\n",
       "     'recipient': '6d0fb33831e94b4daf8716c07575ebd1',\n",
       "     'sender': '0'}]},\n",
       "  {'index': 3,\n",
       "   'previous_hash': '412e2e30235be937a40ebaab248a7990fbd660063f4343df5009f0d30c3b3420',\n",
       "   'proof': 100,\n",
       "   'timestamp': 1652444429.5131123,\n",
       "   'transactions': [{'amount': 1,\n",
       "     'recipient': '6d0fb33831e94b4daf8716c07575ebd1',\n",
       "     'sender': '0'}]},\n",
       "  {'index': 4,\n",
       "   'previous_hash': '567bd04331e1b96e3155952d2acc44fdcd9e58b15d53572fdcc5aa6309802099',\n",
       "   'proof': 88384,\n",
       "   'timestamp': 1652444443.766905,\n",
       "   'transactions': [{'amount': 1,\n",
       "     'recipient': '6d0fb33831e94b4daf8716c07575ebd1',\n",
       "     'sender': '0'}]}],\n",
       " 'length': 4}"
      ]
     },
     "execution_count": 25,
     "metadata": {},
     "output_type": "execute_result"
    }
   ],
   "source": [
    "json.loads(a.text)"
   ]
  }
 ],
 "metadata": {
  "kernelspec": {
   "display_name": "Python 3 (ipykernel)",
   "language": "python",
   "name": "python3"
  },
  "language_info": {
   "codemirror_mode": {
    "name": "ipython",
    "version": 3
   },
   "file_extension": ".py",
   "mimetype": "text/x-python",
   "name": "python",
   "nbconvert_exporter": "python",
   "pygments_lexer": "ipython3",
   "version": "3.9.7"
  }
 },
 "nbformat": 4,
 "nbformat_minor": 5
}
