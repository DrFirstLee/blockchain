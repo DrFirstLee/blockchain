{
 "cells": [
  {
   "cell_type": "code",
   "execution_count": 1,
   "id": "cbd066db",
   "metadata": {},
   "outputs": [],
   "source": [
    "from flask import Flask, request, jsonify\n",
    "import json\n",
    "from uuid import uuid4\n",
    "import hashlib # hash 함수용 sha256 사용할 라이브러리\n",
    "import json\n",
    "from time import time\n",
    "# from urlparse import urlparse\n",
    "from urllib.parse import urlparse\n",
    "import requests\n",
    "\n",
    "from Blockchain import Blockchain\n",
    "import datetime\n",
    "app = Flask(__name__)\n",
    "# Universial Unique Identifier\n",
    "# 노드 식별을 하기 위해 uuid 함수를 사용!\n",
    "node_identifier = 'node_5001' #  hashlib.sha256('0.0.0.0:5001'.encode()).hexdigest()\n",
    "# 아까 짜놓은 블록체인 객체를 선언\n",
    "blockchain = Blockchain()\n",
    "my_ip = '0.0.0.0'\n",
    "my_port = '5001'\n",
    "\n",
    "node_identifier = 'node_' + my_port ##hashlib.sha256('0.0.0.0:5000'.encode()).hexdigest()\n",
    "\n",
    "mine_owner = 'master'\n",
    "mine_profit = 0.1"
   ]
  },
  {
   "cell_type": "code",
   "execution_count": 2,
   "id": "e5359cc8",
   "metadata": {},
   "outputs": [
    {
     "name": "stdout",
     "output_type": "stream",
     "text": [
      " * Serving Flask app \"__main__\" (lazy loading)\n",
      " * Environment: production\n",
      "\u001b[31m   WARNING: This is a development server. Do not use it in a production deployment.\u001b[0m\n",
      "\u001b[2m   Use a production WSGI server instead.\u001b[0m\n",
      " * Debug mode: off\n"
     ]
    },
    {
     "name": "stderr",
     "output_type": "stream",
     "text": [
      " * Running on all addresses.\n",
      "   WARNING: This is a development server. Do not use it in a production deployment.\n",
      " * Running on http://172.30.1.11:5001/ (Press CTRL+C to quit)\n",
      "127.0.0.1 - - [19/May/2022 08:51:12] \"POST /nodes/register HTTP/1.1\" 201 -\n"
     ]
    },
    {
     "name": "stdout",
     "output_type": "stream",
     "text": [
      "register nodes !!! :  {'nodes': 'http://0.0.0.0:5000'}\n",
      "abc http://0.0.0.0:5001\n",
      "abc1 http://0.0.0.0:5001\n"
     ]
    }
   ],
   "source": [
    "\n",
    "## chain 정보 얻기\n",
    "@app.route('/chain', methods=['GET'])\n",
    "def full_chain():\n",
    "    print(\"chain info requested!!\")\n",
    "    response = {\n",
    "        'chain' : blockchain.chain, # 블록체인을 출력\n",
    "        'length' : len(blockchain.chain), # 블록체인 길이 출력\n",
    "    }\n",
    "\n",
    "    # json 형태로 리턴 (200 은 웹 사이트 에러가 없을 때 뜨는 숫자)\n",
    "    return jsonify(response), 200\n",
    "\n",
    "# post는 url에 데이터를 붙여서 보내는 get과 달리 숨겨서 보내는 방식\n",
    "@app.route('/transactions/new', methods=['POST'])\n",
    "def new_transaction():\n",
    "    values = request.get_json() # json 형태를 받아서 저장\n",
    "    print(\"transactions_new!!! : \", values)\n",
    "    required = ['sender', 'recipient', 'amount'] # 해당 데이터가 존재해야함\n",
    "    # 데이터가 없으면 에러를 띄움\n",
    "    if not all(k in values for k in required):\n",
    "        return 'missing values', 400\n",
    "\n",
    "    # Create a new Transaction\n",
    "    # 새 트랜잭션 만들고 삽입\n",
    "    index = blockchain.new_transaction(values['sender'],values['recipient'],values['amount'])\n",
    "    response = {'message' : 'Transaction will be added to Block {%s}' % index}\n",
    "    \n",
    "    \n",
    "    ####################\n",
    "    ## 내 노드에 있는 애들을 모두 다같이 업데이트 해줘야!!??\n",
    "    \n",
    "    if \"type\" in values:\n",
    "        ## 다른노드가 전파하려고 준건 업데이트 필요 없고 나머지만 하면됨!!!!\n",
    "        for node in blockchain.nodes:\n",
    "\n",
    "            headers = {'Content-Type' : 'application/json; charset=utf-8'}\n",
    "            data = {\n",
    "                \"sender\": values['sender'],\n",
    "                \"recipient\": values['recipient'],\n",
    "                \"amount\": values['amount'],\n",
    "                \"type\" : \"sharing\"\n",
    "            }\n",
    "            requests.post(\"http://\" + node + \"/transactions/new\", headers=headers, data=json.dumps(data))\n",
    "\n",
    "    return jsonify(response), 201\n",
    "\n",
    "# 채굴이 되게 할 것\n",
    "# coinbase transaction: 채굴할 때마다 1 코인씩 준다\n",
    "@app.route('/mine', methods=['GET'])\n",
    "def mine():\n",
    "    \n",
    "    last_block = blockchain.last_block\n",
    "    last_proof = last_block['proof']\n",
    "\n",
    "    proof = blockchain.pow(last_proof)  ## 여기가 진정한 채굴단계!!!! pow 에 while True가있어서 오래걸림!!\n",
    "\n",
    "    blockchain.new_transaction(\n",
    "        sender=mine_owner, # 채굴시 생성되는 transaction (0 = 운영자)\n",
    "        recipient=node_identifier, # 지갑 주소처럼 사용\n",
    "        amount=mine_profit # coinbase transaction 코인 1개를 줄게!!\n",
    "    )\n",
    "        ####################\n",
    "    ## 내 노드에 있는 애들을 모두 다같이 업데이트 해줘야!!??\n",
    "    for node in blockchain.nodes:\n",
    "                \n",
    "        headers = {'Content-Type' : 'application/json; charset=utf-8'}\n",
    "        data = {\n",
    "            \"sender\":  mine_owner,\n",
    "            \"recipient\": node_identifier,\n",
    "            \"amount\": mine_profit\n",
    "        }\n",
    "        requests.post(\"http://\" + node + \"/transactions/new\", headers=headers, data=json.dumps(data))\n",
    "\n",
    "        \n",
    "        \n",
    "    # Forge the new Block by adding it to the chain\n",
    "    # 전 블록에 대한 hash를 떠놓고\n",
    "    previous_hash = blockchain.hash(last_block)\n",
    "    # 검증하는 걸 넣어서 블록을 새로 생성 !\n",
    "    print(\"MINING STARTED\")\n",
    "    block = blockchain.new_block(proof, previous_hash)\n",
    "    print(\"MINING FINISHED\")\n",
    "\n",
    "    ## 내가 채굴되었으면 남들한태는 새로운 블록정보를 업데이트해줘야해!!!!!\n",
    "    ## 그렇게 검증도 받아야하고\n",
    "    ################\n",
    "    for node in blockchain.nodes:\n",
    "        headers = {'Content-Type' : 'application/json; charset=utf-8'}\n",
    "        a = requests.get(\"http://\" + node + \"/nodes/resolve\", headers=headers) \n",
    "    print(a.text)\n",
    "    # 이상이 없으면 정상배출\n",
    "    if \"ERROR\" not in a.text :\n",
    "        print(\"검증결과 정상!!!!!!\")\n",
    "        # block 이 제대로 mine 되었다는 정보를 json 형태로 띄워줌\n",
    "        response = {\n",
    "            'message' : 'new block found',\n",
    "            'index' : block['index'],\n",
    "            'transactions' : block['transactions'],\n",
    "            'proof' : block['proof'],\n",
    "            'previous_hash' : block['previous_hash']\n",
    "        }\n",
    "        \n",
    "    #이상이 있다면!?!?\n",
    "    else:\n",
    "        1==1\n",
    "        print(\"검증에서에러발생!!!!!!\")\n",
    "        #문제가 있음을 알려주자!!\n",
    "    \n",
    "\n",
    "    return jsonify(response), 200\n",
    "\n",
    "\n",
    "## 나도 채굴할래!! 노드 등록하기!!\n",
    "@app.route('/nodes/register', methods=['POST'])\n",
    "def register_nodes():\n",
    "    values = request.get_json() # json 형태로 보내면 노드가 저장이 됨\n",
    "    print(\"register nodes !!! : \", values)\n",
    "    nodes = [ values.get('nodes')]\n",
    "    if nodes is None: # Bad Request 400\n",
    "        return \"Error: Please supply a valid list of nodes\", 400\n",
    "    \n",
    "\n",
    "    for node in nodes:\n",
    "        \n",
    "        ## 중복인거면 스킵\n",
    "        if node.split(\"//\")[1] in blockchain.nodes:\n",
    "            print(\"Node already registered\")\n",
    "            continue\n",
    "        \n",
    "        ## 중복 안댔으면 나에게 등록\n",
    "        else:  \n",
    "            blockchain.register_node(node) \n",
    "\n",
    "            ## 그리고 등록된 애들한테 \n",
    "            print(\"abc\" , 'http://' + my_ip + \":\" + my_port)\n",
    "            ## 1. 내정보를  등록하기\n",
    "            headers = {'Content-Type' : 'application/json; charset=utf-8'}\n",
    "            data = {\n",
    "                \"nodes\": 'http://' + my_ip + \":\" + my_port\n",
    "            }\n",
    "            print(\"abc1\" , 'http://' + my_ip + \":\" + my_port)\n",
    "            requests.post( node + \"/nodes/register\", headers=headers, data=json.dumps(data))\n",
    "\n",
    "\n",
    "    response = {\n",
    "        'message' : 'New nodes have been added',\n",
    "        'total_nodes' : list(blockchain.nodes),\n",
    "    }\n",
    "    return jsonify(response), 201\n",
    "\n",
    "\n",
    "## 새로온 친구야 방가워! 다른 노드 정보들을 줄게!!\n",
    "@app.route('/nodes/check', methods=['GET'])\n",
    "def check_nodes():\n",
    "    now_ = datetime.datetime.now().strftime(\"%Y-%m-%d %H:%M:%S\")\n",
    "    response = {\n",
    "        'message' : 'Node List at ' + now_,\n",
    "        'total_nodes' : list(blockchain.nodes),\n",
    "    }\n",
    "    return jsonify(response), 201\n",
    "\n",
    "## 내가 해결했어!@!! 그내용을 전체에 공유할게!!\n",
    "@app.route('/nodes/resolve', methods=['GET'])\n",
    "def consensus():\n",
    "    \n",
    "    ## 그전에 우선 previous 에서 바뀐것이 있는지 점검하자!!\n",
    "    my_previous_hash =  blockchain.last_block['previous_hash']\n",
    "    my_previous_hash\n",
    "    \n",
    "    headers = {'Content-Type' : 'application/json; charset=utf-8'}\n",
    "    a = requests.get(\"http://localhost:5000/chain\", headers=headers)\n",
    "    ##초기 블록은 과거 이력 변조내역 확인 할 필요가 없다\n",
    "        \n",
    "  \n",
    "    print(\"블록, 검증 시작\" )\n",
    "    new_block_previous_hash = json.loads(a.text)['chain'][-2]['previous_hash']\n",
    "    # 내꺼의 전해시랑 새로만든에의 전해시가 같을떄!!! >> 정상\n",
    "    if my_previous_hash == new_block_previous_hash:\n",
    "        print(\"검증결과 정상!!!!!!\")\n",
    "\n",
    "        replaced = blockchain.resolve_conflicts() # True Flase return\n",
    "\n",
    "        # 체인 변경 알림 메시지\n",
    "        if replaced:\n",
    "            ## 내 체인이 짧아서 권위가 없음\n",
    "            print(\"REPLACED length :\",len(blockchain.chain))\n",
    "            response = {\n",
    "                'message' : 'Our chain was replaced',\n",
    "                'new_chain' : blockchain.chain\n",
    "            }\n",
    "        else:\n",
    "            ## 내 체인이 제일 길어서 권위가 있음\n",
    "            response = {\n",
    "                'message' : 'Our chain is authoritative',\n",
    "                'chain' : blockchain.chain\n",
    "            }\n",
    "    #아니면 무엇인가 과거데이터가 바뀐것이다!!\n",
    "    else:\n",
    "        print(\"검증결과 이상발생!!!!!!!!\")\n",
    "        response = {\n",
    "                'message' : 'ERROR!!! Your result was modified',\n",
    "                'chain' : blockchain.chain\n",
    "            }            \n",
    "\n",
    "\n",
    "    return jsonify(response), 200\n",
    "\n",
    "if __name__ == '__main__':\n",
    "    app.run(host=my_ip, port=my_port) "
   ]
  },
  {
   "cell_type": "code",
   "execution_count": 3,
   "id": "c6b039f8",
   "metadata": {},
   "outputs": [
    {
     "data": {
      "text/plain": [
       "1"
      ]
     },
     "execution_count": 3,
     "metadata": {},
     "output_type": "execute_result"
    }
   ],
   "source": [
    " blockchain.last_block['previous_hash']"
   ]
  },
  {
   "cell_type": "code",
   "execution_count": 4,
   "id": "159aae20",
   "metadata": {},
   "outputs": [
    {
     "data": {
      "text/plain": [
       "'1d4e65c374f00177b4d72b461b1ed118b30552bc24fbe5c5222f210d87cf9a84'"
      ]
     },
     "execution_count": 4,
     "metadata": {},
     "output_type": "execute_result"
    }
   ],
   "source": [
    "last_block = blockchain.last_block\n",
    "my_previous_hash = blockchain.hash(last_block)    \n",
    "my_previous_hash"
   ]
  },
  {
   "cell_type": "code",
   "execution_count": 5,
   "id": "001f08f0",
   "metadata": {},
   "outputs": [
    {
     "ename": "NameError",
     "evalue": "name 'a' is not defined",
     "output_type": "error",
     "traceback": [
      "\u001b[0;31m---------------------------------------------------------------------------\u001b[0m",
      "\u001b[0;31mNameError\u001b[0m                                 Traceback (most recent call last)",
      "\u001b[0;32m/tmp/ipykernel_1108339/648827377.py\u001b[0m in \u001b[0;36m<module>\u001b[0;34m\u001b[0m\n\u001b[0;32m----> 1\u001b[0;31m \u001b[0mjson\u001b[0m\u001b[0;34m.\u001b[0m\u001b[0mloads\u001b[0m\u001b[0;34m(\u001b[0m\u001b[0ma\u001b[0m\u001b[0;34m.\u001b[0m\u001b[0mtext\u001b[0m\u001b[0;34m)\u001b[0m\u001b[0;34m[\u001b[0m\u001b[0;34m'chain'\u001b[0m\u001b[0;34m]\u001b[0m\u001b[0;34m[\u001b[0m\u001b[0;34m-\u001b[0m\u001b[0;36m2\u001b[0m\u001b[0;34m]\u001b[0m\u001b[0;34m[\u001b[0m\u001b[0;34m'previous_hash'\u001b[0m\u001b[0;34m]\u001b[0m\u001b[0;34m\u001b[0m\u001b[0;34m\u001b[0m\u001b[0m\n\u001b[0m",
      "\u001b[0;31mNameError\u001b[0m: name 'a' is not defined"
     ]
    }
   ],
   "source": [
    " json.loads(a.text)['chain'][-2]['previous_hash']"
   ]
  },
  {
   "cell_type": "code",
   "execution_count": null,
   "id": "98de51c9",
   "metadata": {},
   "outputs": [],
   "source": [
    "headers = {'Content-Type' : 'application/json; charset=utf-8'}\n",
    "a = requests.get(\"http://localhost:5000/chain\", headers=headers)"
   ]
  },
  {
   "cell_type": "code",
   "execution_count": null,
   "id": "47a8a48b",
   "metadata": {},
   "outputs": [],
   "source": [
    "json.loads(a.text)['chain'][-2]['previous_hash']"
   ]
  },
  {
   "cell_type": "code",
   "execution_count": null,
   "id": "21166792",
   "metadata": {},
   "outputs": [],
   "source": [
    "blockchain.chain"
   ]
  },
  {
   "cell_type": "code",
   "execution_count": null,
   "id": "504f937e",
   "metadata": {},
   "outputs": [],
   "source": [
    "json.loads(a.text)['chain'][-2]#['previous_hash']"
   ]
  }
 ],
 "metadata": {
  "kernelspec": {
   "display_name": "Python 3 (ipykernel)",
   "language": "python",
   "name": "python3"
  },
  "language_info": {
   "codemirror_mode": {
    "name": "ipython",
    "version": 3
   },
   "file_extension": ".py",
   "mimetype": "text/x-python",
   "name": "python",
   "nbconvert_exporter": "python",
   "pygments_lexer": "ipython3",
   "version": "3.9.7"
  }
 },
 "nbformat": 4,
 "nbformat_minor": 5
}
