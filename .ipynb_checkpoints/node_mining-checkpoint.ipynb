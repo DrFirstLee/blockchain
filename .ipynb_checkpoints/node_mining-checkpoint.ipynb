{
 "cells": [
  {
   "cell_type": "code",
   "execution_count": 48,
   "id": "bb834c9d",
   "metadata": {},
   "outputs": [],
   "source": [
    "import requests\n",
    "import json"
   ]
  },
  {
   "cell_type": "code",
   "execution_count": 49,
   "id": "26102e11",
   "metadata": {},
   "outputs": [
    {
     "data": {
      "text/plain": [
       "b'{\"message\":\"New nodes have been added\",\"total_nodes\":[\"0.0.0.0:5001\"]}\\n'"
      ]
     },
     "execution_count": 49,
     "metadata": {},
     "output_type": "execute_result"
    }
   ],
   "source": [
    "## 노드 등록하기\n",
    "headers = {'Content-Type' : 'application/json; charset=utf-8'}\n",
    "data = {\n",
    "    \"nodes\": 'http://0.0.0.0:5001'\n",
    "}\n",
    "\n",
    "# requests.post(\"http://localhost:5000/nodes/register\", headers=headers, data=json.dumps(data))\n",
    "requests.post(\"http://localhost:5000/nodes/register\", headers=headers, data=json.dumps(data)).content"
   ]
  },
  {
   "cell_type": "code",
   "execution_count": 42,
   "id": "505bd621",
   "metadata": {},
   "outputs": [
    {
     "data": {
      "text/plain": [
       "{'message': 'Node List at 2022-05-18 17:42:33',\n",
       " 'total_nodes': ['0.0.0.0:5001']}"
      ]
     },
     "execution_count": 42,
     "metadata": {},
     "output_type": "execute_result"
    }
   ],
   "source": [
    "## 등록 노드 점검\n",
    "headers = {'Content-Type' : 'application/json; charset=utf-8'}\n",
    "json.loads(requests.get(\"http://localhost:5000/nodes/check\", headers=headers).content)"
   ]
  },
  {
   "cell_type": "code",
   "execution_count": 43,
   "id": "27bf5ee3",
   "metadata": {},
   "outputs": [
    {
     "data": {
      "text/plain": [
       "{'message': 'Node List at 2022-05-18 17:42:34',\n",
       " 'total_nodes': ['0.0.0.0:5000']}"
      ]
     },
     "execution_count": 43,
     "metadata": {},
     "output_type": "execute_result"
    }
   ],
   "source": [
    "## 등록 노드 점검\n",
    "headers = {'Content-Type' : 'application/json; charset=utf-8'}\n",
    "json.loads(requests.get(\"http://localhost:5001/nodes/check\", headers=headers).content)"
   ]
  },
  {
   "cell_type": "code",
   "execution_count": 44,
   "id": "ca985568",
   "metadata": {},
   "outputs": [
    {
     "data": {
      "text/plain": [
       "b'{\"message\":\"Transaction will be added to Block {2}\"}\\n'"
      ]
     },
     "execution_count": 44,
     "metadata": {},
     "output_type": "execute_result"
    }
   ],
   "source": [
    "## transaction 입력하기\n",
    "headers = {'Content-Type' : 'application/json; charset=utf-8'}\n",
    "data = {\n",
    "    \"sender\": 'abc',\n",
    "    \"recipient\": 'zzz',\n",
    "    \"amount\": 3,\n",
    "}\n",
    "requests.post(\"http://localhost:5000/transactions/new\", headers=headers, data=json.dumps(data)).content"
   ]
  },
  {
   "cell_type": "code",
   "execution_count": 45,
   "id": "4290f3bf",
   "metadata": {},
   "outputs": [
    {
     "name": "stdout",
     "output_type": "stream",
     "text": [
      "{\"index\":2,\"message\":\"new block found\",\"previous_hash\":\"f7b406cd624d0012aea256dc634e6680a35738e20028dd979edce5f98cd503c9\",\"proof\":88384,\"transactions\":[{\"amount\":3,\"recipient\":\"zzz\",\"sender\":\"abc\"},{\"amount\":0.1,\"recipient\":\"node_5000\",\"sender\":\"master\"}]}\n",
      "\n"
     ]
    }
   ],
   "source": [
    "##  채굴하기\n",
    "headers = {'Content-Type' : 'application/json; charset=utf-8'}\n",
    "\n",
    "print(requests.get(\"http://localhost:5000/mine\").text)"
   ]
  },
  {
   "cell_type": "code",
   "execution_count": 46,
   "id": "5ea2a130",
   "metadata": {},
   "outputs": [
    {
     "data": {
      "text/plain": [
       "{'chain': [{'index': 1,\n",
       "   'previous_hash': 1,\n",
       "   'proof': 100,\n",
       "   'timestamp': 1652863347.8234732,\n",
       "   'transactions': []},\n",
       "  {'index': 2,\n",
       "   'previous_hash': 'f7b406cd624d0012aea256dc634e6680a35738e20028dd979edce5f98cd503c9',\n",
       "   'proof': 88384,\n",
       "   'timestamp': 1652863355.3295648,\n",
       "   'transactions': [{'amount': 3, 'recipient': 'zzz', 'sender': 'abc'},\n",
       "    {'amount': 0.1, 'recipient': 'node_5000', 'sender': 'master'}]}],\n",
       " 'length': 2}"
      ]
     },
     "execution_count": 46,
     "metadata": {},
     "output_type": "execute_result"
    }
   ],
   "source": [
    "## 1번 노드 상태 받기!! >> ㅇㅋㅇㅋ\n",
    "\n",
    "headers = {'Content-Type' : 'application/json; charset=utf-8'}\n",
    "a = requests.get(\"http://localhost:5000/chain\", headers=headers)\n",
    "json.loads(a.text)"
   ]
  },
  {
   "cell_type": "code",
   "execution_count": 47,
   "id": "3d996fac",
   "metadata": {},
   "outputs": [
    {
     "data": {
      "text/plain": [
       "{'chain': [{'index': 1,\n",
       "   'previous_hash': 1,\n",
       "   'proof': 100,\n",
       "   'timestamp': 1652863347.8234732,\n",
       "   'transactions': []},\n",
       "  {'index': 2,\n",
       "   'previous_hash': 'f7b406cd624d0012aea256dc634e6680a35738e20028dd979edce5f98cd503c9',\n",
       "   'proof': 88384,\n",
       "   'timestamp': 1652863355.3295648,\n",
       "   'transactions': [{'amount': 3, 'recipient': 'zzz', 'sender': 'abc'},\n",
       "    {'amount': 0.1, 'recipient': 'node_5000', 'sender': 'master'}]}],\n",
       " 'length': 2}"
      ]
     },
     "execution_count": 47,
     "metadata": {},
     "output_type": "execute_result"
    }
   ],
   "source": [
    "## 2번 노드 상태 받기!! >> 아직 블록생성이 안되어 바뀐것이 없음\n",
    "\n",
    "headers = {'Content-Type' : 'application/json; charset=utf-8'}\n",
    "a = requests.get(\"http://localhost:5001/chain\", headers=headers)\n",
    "json.loads(a.text)"
   ]
  },
  {
   "cell_type": "code",
   "execution_count": 9,
   "id": "e66bf265",
   "metadata": {},
   "outputs": [
    {
     "data": {
      "text/plain": [
       "b'{\"message\":\"Transaction will be added to Block {3}\"}\\n'"
      ]
     },
     "execution_count": 9,
     "metadata": {},
     "output_type": "execute_result"
    }
   ],
   "source": [
    "## transaction 입력하기\n",
    "headers = {'Content-Type' : 'application/json; charset=utf-8'}\n",
    "data = {\n",
    "    \"sender\": 'abc_2',\n",
    "    \"recipient\": 'zzz_2',\n",
    "    \"amount\": 3,\n",
    "}\n",
    "requests.post(\"http://localhost:5001/transactions/new\", headers=headers, data=json.dumps(data)).content"
   ]
  },
  {
   "cell_type": "code",
   "execution_count": 10,
   "id": "913620b2",
   "metadata": {},
   "outputs": [
    {
     "data": {
      "text/plain": [
       "{'chain': [{'index': 1,\n",
       "   'previous_hash': 1,\n",
       "   'proof': 100,\n",
       "   'timestamp': 1652860094.826789,\n",
       "   'transactions': []},\n",
       "  {'index': 2,\n",
       "   'previous_hash': '3c03b99c0d7f78790dbbf821d9f1f03c59adae65c3ae5b957a9be6ac18cefdc0',\n",
       "   'proof': 88384,\n",
       "   'timestamp': 1652860154.915192,\n",
       "   'transactions': [{'amount': 3, 'recipient': 'zzz', 'sender': 'abc'},\n",
       "    {'amount': 0.1, 'recipient': 'node_5000', 'sender': 'master'}]}],\n",
       " 'length': 2}"
      ]
     },
     "execution_count": 10,
     "metadata": {},
     "output_type": "execute_result"
    }
   ],
   "source": [
    "## 2번 노드 상태 받기!! >> 아직 블록생성이 안되어 바뀐것이 없음\n",
    "\n",
    "headers = {'Content-Type' : 'application/json; charset=utf-8'}\n",
    "a = requests.get(\"http://localhost:5001/chain\", headers=headers)\n",
    "json.loads(a.text)"
   ]
  },
  {
   "cell_type": "code",
   "execution_count": 21,
   "id": "e4b6d058",
   "metadata": {},
   "outputs": [
    {
     "name": "stdout",
     "output_type": "stream",
     "text": [
      "{\"index\":3,\"message\":\"new block found\",\"previous_hash\":\"8b2c21b263eadfed6614ba51cbb47566c2e6bfa0d4241b26dd4328fd78fe1f01\",\"proof\":100,\"transactions\":[{\"amount\":0.1,\"recipient\":\"node_5001\",\"sender\":\"master\"}]}\n",
      "\n"
     ]
    }
   ],
   "source": [
    "##  22 채굴하기\n",
    "headers = {'Content-Type' : 'application/json; charset=utf-8'}\n",
    "\n",
    "print(requests.get(\"http://localhost:5001/mine\").text)"
   ]
  },
  {
   "cell_type": "code",
   "execution_count": 18,
   "id": "22c4f7ef",
   "metadata": {},
   "outputs": [
    {
     "data": {
      "text/plain": [
       "'3c03b99c0d7f78790dbbf821d9f1f03c59adae65c3ae5b957a9be6ac18cefdc0'"
      ]
     },
     "execution_count": 18,
     "metadata": {},
     "output_type": "execute_result"
    }
   ],
   "source": [
    "## 2번 노드 상태 받기!! >> 아직 블록생성이 안되어 바뀐것이 없음\n",
    "\n",
    "headers = {'Content-Type' : 'application/json; charset=utf-8'}\n",
    "a = requests.get(\"http://localhost:5001/chain\", headers=headers)\n",
    "json.loads(a.text)['chain'][-2]['previous_hash']"
   ]
  },
  {
   "cell_type": "code",
   "execution_count": 13,
   "id": "03dd05b3",
   "metadata": {},
   "outputs": [
    {
     "data": {
      "text/plain": [
       "{'chain': [{'index': 1,\n",
       "   'previous_hash': 1,\n",
       "   'proof': 100,\n",
       "   'timestamp': 1652860094.826789,\n",
       "   'transactions': []},\n",
       "  {'index': 2,\n",
       "   'previous_hash': '3c03b99c0d7f78790dbbf821d9f1f03c59adae65c3ae5b957a9be6ac18cefdc0',\n",
       "   'proof': 88384,\n",
       "   'timestamp': 1652860154.915192,\n",
       "   'transactions': [{'amount': 3, 'recipient': 'zzz', 'sender': 'abc'},\n",
       "    {'amount': 0.1, 'recipient': 'node_5000', 'sender': 'master'}]},\n",
       "  {'index': 3,\n",
       "   'previous_hash': 'b54fa19161a3393be761a6452a13f0b1bacf211987ea96732cc46c68b30d315b',\n",
       "   'proof': 100,\n",
       "   'timestamp': 1652860202.086529,\n",
       "   'transactions': [{'amount': 0.1,\n",
       "     'recipient': 'node_5000',\n",
       "     'sender': 'master'},\n",
       "    {'amount': 3, 'recipient': 'zzz_2', 'sender': 'abc_2'},\n",
       "    {'amount': 0.1, 'recipient': 'node_5001', 'sender': 'master'}]}],\n",
       " 'length': 3}"
      ]
     },
     "execution_count": 13,
     "metadata": {},
     "output_type": "execute_result"
    }
   ],
   "source": [
    "## 1번 노드 상태 받기!! >> ㅇㅋㅇㅋ\n",
    "\n",
    "headers = {'Content-Type' : 'application/json; charset=utf-8'}\n",
    "a = requests.get(\"http://localhost:5000/chain\", headers=headers)\n",
    "json.loads(a.text)"
   ]
  },
  {
   "cell_type": "code",
   "execution_count": 189,
   "id": "274dccdd",
   "metadata": {},
   "outputs": [
    {
     "data": {
      "text/plain": [
       "{'chain': [{'index': 1,\n",
       "   'previous_hash': 1,\n",
       "   'proof': 100,\n",
       "   'timestamp': 1652859055.7362137,\n",
       "   'transactions': []},\n",
       "  {'index': 2,\n",
       "   'previous_hash': 'ca0a79cb564213a33d6687de936c3ecb119da45422f91d17f79468e33e5b0ade',\n",
       "   'proof': 88384,\n",
       "   'timestamp': 1652859150.7297843,\n",
       "   'transactions': [{'amount': 0.1,\n",
       "     'recipient': 'node_5001',\n",
       "     'sender': 'master'}]}],\n",
       " 'length': 2}"
      ]
     },
     "execution_count": 189,
     "metadata": {},
     "output_type": "execute_result"
    }
   ],
   "source": [
    "## 2번 노드 상태 받기!! >> 아직 블록생성이 안되어 바뀐것이 없음\n",
    "\n",
    "headers = {'Content-Type' : 'application/json; charset=utf-8'}\n",
    "a = requests.get(\"http://localhost:5001/chain\", headers=headers)\n",
    "json.loads(a.text)"
   ]
  },
  {
   "cell_type": "code",
   "execution_count": null,
   "id": "1dec37b0",
   "metadata": {},
   "outputs": [],
   "source": []
  }
 ],
 "metadata": {
  "kernelspec": {
   "display_name": "Python 3 (ipykernel)",
   "language": "python",
   "name": "python3"
  },
  "language_info": {
   "codemirror_mode": {
    "name": "ipython",
    "version": 3
   },
   "file_extension": ".py",
   "mimetype": "text/x-python",
   "name": "python",
   "nbconvert_exporter": "python",
   "pygments_lexer": "ipython3",
   "version": "3.9.7"
  }
 },
 "nbformat": 4,
 "nbformat_minor": 5
}
