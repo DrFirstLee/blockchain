{
 "cells": [
  {
   "cell_type": "code",
   "execution_count": 1,
   "id": "fcd2aaca",
   "metadata": {},
   "outputs": [],
   "source": [
    "import requests\n",
    "import json"
   ]
  },
  {
   "cell_type": "code",
   "execution_count": 2,
   "id": "13212e9a",
   "metadata": {},
   "outputs": [
    {
     "name": "stdout",
     "output_type": "stream",
     "text": [
      "b'{\"message\":\"Transaction will be added to Block {2}\"}\\n'\n"
     ]
    }
   ],
   "source": [
    "## transaction 입력하기\n",
    "headers = {'Content-Type' : 'application/json; charset=utf-8'}\n",
    "data = {\n",
    "    \"sender\": 1,\n",
    "    \"recipient\": 2,\n",
    "    \"amount\": 100,\n",
    "}\n",
    "print(requests.post(\"http://localhost:5000/transactions/new\", headers=headers, data=json.dumps(data)).content)"
   ]
  },
  {
   "cell_type": "code",
   "execution_count": 3,
   "id": "924dbe16",
   "metadata": {},
   "outputs": [
    {
     "name": "stdout",
     "output_type": "stream",
     "text": [
      "b'{\"message\":\"Transaction will be added to Block {2}\"}\\n'\n"
     ]
    }
   ],
   "source": [
    "## transaction 입력하기\n",
    "headers = {'Content-Type' : 'application/json; charset=utf-8'}\n",
    "data = {\n",
    "    \"sender\": 'abc',\n",
    "    \"recipient\": 'zzz',\n",
    "    \"amount\": 3,\n",
    "}\n",
    "print(requests.post(\"http://localhost:5000/transactions/new\", headers=headers, data=json.dumps(data)).content)"
   ]
  },
  {
   "cell_type": "code",
   "execution_count": 4,
   "id": "2a47620a",
   "metadata": {},
   "outputs": [
    {
     "data": {
      "text/plain": [
       "'{\"chain\":[{\"index\":1,\"previous_hash\":1,\"proof\":100,\"timestamp\":1652830168.561354,\"transactions\":[]}],\"length\":1}\\n'"
      ]
     },
     "execution_count": 4,
     "metadata": {},
     "output_type": "execute_result"
    }
   ],
   "source": [
    "## 블록체인 상태 받기!! >> 아직 블록생성이 안되어 바뀐것이 없음\n",
    "\n",
    "headers = {'Content-Type' : 'application/json; charset=utf-8'}\n",
    "a = requests.get(\"http://localhost:5000/chain\", headers=headers)\n",
    "a.text"
   ]
  },
  {
   "cell_type": "code",
   "execution_count": 5,
   "id": "d4e45525",
   "metadata": {},
   "outputs": [],
   "source": [
    "# ## 노드 등록하기\n",
    "# headers = {'Content-Type' : 'application/json; charset=utf-8'}\n",
    "# data = {\n",
    "#     \"nodes\": 'http://0.0.0.0:5001'\n",
    "# }\n",
    "\n",
    "# print(requests.post(\"http://localhost:5000/nodes/register\", headers=headers, data=json.dumps(data)).content)"
   ]
  },
  {
   "cell_type": "code",
   "execution_count": 6,
   "id": "53276e52",
   "metadata": {},
   "outputs": [
    {
     "name": "stdout",
     "output_type": "stream",
     "text": [
      "<Response [200]>\n"
     ]
    }
   ],
   "source": [
    "##  채굴하기\n",
    "headers = {'Content-Type' : 'application/json; charset=utf-8'}\n",
    "\n",
    "print(requests.get(\"http://localhost:5000/mine\"))"
   ]
  },
  {
   "cell_type": "code",
   "execution_count": 9,
   "id": "6ca342bc",
   "metadata": {},
   "outputs": [
    {
     "data": {
      "text/plain": [
       "{'chain': [{'index': 1,\n",
       "   'previous_hash': 1,\n",
       "   'proof': 100,\n",
       "   'timestamp': 1652830168.561354,\n",
       "   'transactions': []},\n",
       "  {'index': 2,\n",
       "   'previous_hash': 'bd333721cb23fe0bb7978820f6cb364c86fad0b2baab7bd796da6f609add1a04',\n",
       "   'proof': 88384,\n",
       "   'timestamp': 1652830179.1292078,\n",
       "   'transactions': [{'amount': 100, 'recipient': 2, 'sender': 1},\n",
       "    {'amount': 3, 'recipient': 'zzz', 'sender': 'abc'},\n",
       "    {'amount': 1, 'recipient': 'node_5000', 'sender': '0'}]}],\n",
       " 'length': 2}"
      ]
     },
     "execution_count": 9,
     "metadata": {},
     "output_type": "execute_result"
    }
   ],
   "source": [
    "## 블록체인 상태 받기!! >> 채굴이 되어서 추가 노드가 입력이됨\n",
    "## 마지막 체인에 앞에서 준 transaction 데이터가 있음\n",
    "headers = {'Content-Type' : 'application/json; charset=utf-8'}\n",
    "a = requests.get(\"http://localhost:5000/chain\", headers=headers)\n",
    "json.loads(a.text)"
   ]
  },
  {
   "cell_type": "code",
   "execution_count": 15,
   "id": "c5f41717",
   "metadata": {},
   "outputs": [
    {
     "name": "stdout",
     "output_type": "stream",
     "text": [
      "<Response [200]>\n"
     ]
    }
   ],
   "source": [
    "##  채굴하기\n",
    "headers = {'Content-Type' : 'application/json; charset=utf-8'}\n",
    "print(requests.get(\"http://localhost:5000/mine\"))"
   ]
  },
  {
   "cell_type": "code",
   "execution_count": 16,
   "id": "493947a1",
   "metadata": {},
   "outputs": [
    {
     "data": {
      "text/plain": [
       "{'chain': [{'index': 1,\n",
       "   'previous_hash': 1,\n",
       "   'proof': 100,\n",
       "   'timestamp': 1652830168.561354,\n",
       "   'transactions': []},\n",
       "  {'index': 2,\n",
       "   'previous_hash': 'bd333721cb23fe0bb7978820f6cb364c86fad0b2baab7bd796da6f609add1a04',\n",
       "   'proof': 88384,\n",
       "   'timestamp': 1652830179.1292078,\n",
       "   'transactions': [{'amount': 100, 'recipient': 2, 'sender': 1},\n",
       "    {'amount': 3, 'recipient': 'zzz', 'sender': 'abc'},\n",
       "    {'amount': 1, 'recipient': 'node_5000', 'sender': '0'}]},\n",
       "  {'index': 3,\n",
       "   'previous_hash': 'e62dfddd3dc7901a6bc6f802383b28b6ef1f3d94671e3d8b163ba8ae6ba370cb',\n",
       "   'proof': 100,\n",
       "   'timestamp': 1652830239.2591612,\n",
       "   'transactions': [{'amount': 1, 'recipient': 'node_5000', 'sender': '0'}]},\n",
       "  {'index': 4,\n",
       "   'previous_hash': 'ed93a415ea6ddee24c48affcba93e9b1b9b8e67aed5fec6b8c0a3318cf5e644d',\n",
       "   'proof': 88384,\n",
       "   'timestamp': 1652830252.63421,\n",
       "   'transactions': [{'amount': 1, 'recipient': 'node_5000', 'sender': '0'}]}],\n",
       " 'length': 4}"
      ]
     },
     "execution_count": 16,
     "metadata": {},
     "output_type": "execute_result"
    }
   ],
   "source": [
    "## 블록체인 상태 받기!! >> 채굴이 되어서 추가 노드가 입력이됨\n",
    "## 마지막 체인에 앞에서 준 transaction 데이터가 있음\n",
    "headers = {'Content-Type' : 'application/json; charset=utf-8'}\n",
    "a = requests.get(\"http://localhost:5000/chain\", headers=headers)\n",
    "json.loads(a.text)"
   ]
  },
  {
   "cell_type": "code",
   "execution_count": 17,
   "id": "71998c2f",
   "metadata": {},
   "outputs": [
    {
     "data": {
      "text/plain": [
       "[{'index': 1,\n",
       "  'previous_hash': 1,\n",
       "  'proof': 100,\n",
       "  'timestamp': 1652830168.561354,\n",
       "  'transactions': []},\n",
       " {'index': 2,\n",
       "  'previous_hash': 'bd333721cb23fe0bb7978820f6cb364c86fad0b2baab7bd796da6f609add1a04',\n",
       "  'proof': 88384,\n",
       "  'timestamp': 1652830179.1292078,\n",
       "  'transactions': [{'amount': 100, 'recipient': 2, 'sender': 1},\n",
       "   {'amount': 3, 'recipient': 'zzz', 'sender': 'abc'},\n",
       "   {'amount': 1, 'recipient': 'node_5000', 'sender': '0'}]},\n",
       " {'index': 3,\n",
       "  'previous_hash': 'e62dfddd3dc7901a6bc6f802383b28b6ef1f3d94671e3d8b163ba8ae6ba370cb',\n",
       "  'proof': 100,\n",
       "  'timestamp': 1652830239.2591612,\n",
       "  'transactions': [{'amount': 1, 'recipient': 'node_5000', 'sender': '0'}]},\n",
       " {'index': 4,\n",
       "  'previous_hash': 'ed93a415ea6ddee24c48affcba93e9b1b9b8e67aed5fec6b8c0a3318cf5e644d',\n",
       "  'proof': 88384,\n",
       "  'timestamp': 1652830252.63421,\n",
       "  'transactions': [{'amount': 1, 'recipient': 'node_5000', 'sender': '0'}]}]"
      ]
     },
     "execution_count": 17,
     "metadata": {},
     "output_type": "execute_result"
    }
   ],
   "source": [
    "json.loads(a.text)['chain']"
   ]
  }
 ],
 "metadata": {
  "kernelspec": {
   "display_name": "Python 3 (ipykernel)",
   "language": "python",
   "name": "python3"
  },
  "language_info": {
   "codemirror_mode": {
    "name": "ipython",
    "version": 3
   },
   "file_extension": ".py",
   "mimetype": "text/x-python",
   "name": "python",
   "nbconvert_exporter": "python",
   "pygments_lexer": "ipython3",
   "version": "3.9.7"
  }
 },
 "nbformat": 4,
 "nbformat_minor": 5
}
